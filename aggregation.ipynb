{
 "cells": [
  {
   "cell_type": "code",
   "execution_count": null,
   "id": "acb627d1",
   "metadata": {},
   "outputs": [],
   "source": [
    "### Import Script ####\n",
    "\n",
    "# Run to Import and process data from CSV file in raw folder \n",
    "# def import_script():"
   ]
  },
  {
   "cell_type": "code",
   "execution_count": null,
   "id": "a013fe3e",
   "metadata": {},
   "outputs": [],
   "source": [
    "import pandas as pd\n",
    "import numpy as np\n",
    "import warnings\n",
    "warnings.simplefilter('ignore')"
   ]
  },
  {
   "cell_type": "code",
   "execution_count": null,
   "id": "a90bac8f",
   "metadata": {},
   "outputs": [],
   "source": [
    "client_train_import = pd.read_csv('data/raw/client_train.csv', low_memory=False)\n",
    "invoice_train_import = pd.read_csv('data/raw/invoice_updated.csv', low_memory=False)\n",
    "\n",
    "client_test_import = pd.read_csv('data/raw/client_test.csv', low_memory=False)\n",
    "invoice_test_import = pd.read_csv('data/raw/invoice_test.csv', low_memory=False)\n",
    "\n",
    "invoice_test_import.columns\n",
    "\n",
    "col_names =['client_id',\n",
    "       'invoice_date',\n",
    "       'tariff_type', \n",
    "       'counter_number',\n",
    "       'counter_status',\n",
    "       'counter_code',\n",
    "       'reading_remark',\n",
    "       'counter_coefficient',\n",
    "       'consumption_level_1',\n",
    "       'consumption_level_2',\n",
    "       'consumption_level_3',\n",
    "       'consumption_level_4', 'old_index',\n",
    "       'new_index',\n",
    "       'months_number',\n",
    "       'counter_type']\n",
    "\n",
    "# assign col_names to invoice_test_import\n",
    "invoice_test_import.columns = col_names"
   ]
  },
  {
   "cell_type": "code",
   "execution_count": null,
   "id": "c4733f68",
   "metadata": {},
   "outputs": [],
   "source": [
    "invoice_train_import[invoice_train_import['invoice_date'] >= '2005-01-01']"
   ]
  },
  {
   "cell_type": "code",
   "execution_count": null,
   "id": "a7aab6c9",
   "metadata": {},
   "outputs": [],
   "source": [
    "client_train = client_train_import.copy()\n",
    "invoice_train = invoice_train_import.copy()\n",
    "\n",
    "client_test = client_test_import.copy() \n",
    "invoice_test = invoice_test_import.copy()\n",
    "\n",
    "\n",
    "# NEW: thereare 11 duplicated rows in invoice! dropped here\n",
    "# get all rows from invoice that are double\n",
    "invoice_test[invoice_test.duplicated(keep=False)]\n",
    "#remove duplicated rows\n",
    "invoice_test = invoice_test.drop_duplicates()"
   ]
  },
  {
   "cell_type": "code",
   "execution_count": null,
   "id": "3d5641a4",
   "metadata": {},
   "outputs": [],
   "source": [
    "#changing dates to datetime format\n",
    "for df in [invoice_train,invoice_test]:\n",
    "    df['invoice_date'] = pd.to_datetime(df['invoice_date'])\n",
    "df.head()"
   ]
  },
  {
   "cell_type": "code",
   "execution_count": null,
   "id": "fadeba31",
   "metadata": {
    "lines_to_next_cell": 2
   },
   "outputs": [],
   "source": [
    "counter_info_train = invoice_train['counter_type']\n",
    "counter_info_test = invoice_test['counter_type']\n",
    "\n",
    "invoice_train = pd.get_dummies(invoice_train, columns=['counter_type'], dtype=int)\n",
    "invoice_test = pd.get_dummies(invoice_test, columns=['counter_type'], dtype=int)\n",
    "\n",
    "invoice_train = pd.concat([invoice_train, counter_info_train], axis=1)\n",
    "invoice_test = pd.concat([invoice_test, counter_info_test], axis=1)  \n",
    "\n",
    "d={\"ELEC\":0,\"GAZ\":1}\n",
    "invoice_train['counter_type']=invoice_train['counter_type'].map(d)\n",
    "invoice_test['counter_type']=invoice_test['counter_type'].map(d)"
   ]
  },
  {
   "cell_type": "code",
   "execution_count": null,
   "id": "cb4aad8e",
   "metadata": {},
   "outputs": [],
   "source": [
    "invoice_train.head()"
   ]
  },
  {
   "cell_type": "code",
   "execution_count": null,
   "id": "fad11702",
   "metadata": {
    "lines_to_next_cell": 1
   },
   "outputs": [],
   "source": [
    "client_train['client_catg'] = client_train['client_catg'].astype(int)\n",
    "client_train['disrict'] = client_train['disrict'].astype(int)\n",
    "\n",
    "client_test['client_catg'] = client_test['client_catg'].astype(int)\n",
    "client_test['disrict'] = client_test['disrict'].astype(int)\n",
    "\n",
    "def aggregate_by_client_id(invoice_data):\n",
    "    aggs  = {\n",
    "        'consumption_level_1': ['mean'],\n",
    "        'consumption_level_2': ['mean'],\n",
    "        'consumption_level_3': ['mean'],\n",
    "        'consumption_level_4': ['mean'],\n",
    "        'counter_type_ELEC': ['mean'],\n",
    "        'counter_type_GAZ': ['mean'],\n",
    "      #  'counter_type': ['mean']            \n",
    "    }\n",
    "\n",
    "    agg_trans = invoice_train.groupby(['client_id']).agg(aggs)\n",
    "    agg_trans.columns = ['_'.join(col).strip() for col in agg_trans.columns.values]\n",
    "    agg_trans.reset_index(inplace=True)\n",
    "\n",
    "    df = (invoice_data.groupby('client_id')\n",
    "            .size()\n",
    "            .reset_index(name='{}transactions_count'.format('1')))\n",
    "    \n",
    "    dfreturn = pd.merge(df, agg_trans, on='client_id', how='left')\n",
    "\n",
    "    return dfreturn"
   ]
  },
  {
   "cell_type": "code",
   "execution_count": null,
   "id": "81c2b91c",
   "metadata": {},
   "outputs": [],
   "source": [
    "# def aggregate_by_client_id(invoice_data):\n",
    "#     aggs = {\n",
    "#         'consumption_level_1': ['mean'],\n",
    "#         'consumption_level_2': ['mean'],\n",
    "#         'consumption_level_3': ['mean'],\n",
    "#         'consumption_level_4': ['mean'],\n",
    "#         'counter_type_ELEC': ['mean'],\n",
    "#         'counter_type_GAZ': ['mean'],\n",
    "#         'counter_type': ['mean']            \n",
    "#     }\n",
    "\n",
    "#     agg_trans = invoice_data.groupby(['client_id']).agg(aggs)\n",
    "#     agg_trans.columns = ['_'.join(col).strip() for col in agg_trans.columns.values]\n",
    "#     agg_trans.reset_index(inplace=True)\n",
    "\n",
    "#     df = (invoice_data.groupby(['client_id'])\n",
    "#             .size()\n",
    "#             .reset_index(name='transactions_count'))\n",
    "\n",
    "#     # Count transactions grouped by counter_type\n",
    "#     counter_type_counts = invoice_data.groupby(['client_id', 'counter_type']).size().unstack(fill_value=0)\n",
    "#     counter_type_counts.columns = [f'transactions_count_{col}' for col in counter_type_counts.columns]\n",
    "#     counter_type_counts.reset_index(inplace=True)\n",
    "\n",
    "#     dfreturn = pd.merge(df, agg_trans, on='client_id', how='left')\n",
    "#     dfreturn = pd.merge(dfreturn, counter_type_counts, on='client_id', how='left')\n",
    "\n",
    "#     return dfreturn"
   ]
  },
  {
   "cell_type": "code",
   "execution_count": null,
   "id": "eec5fdaa",
   "metadata": {},
   "outputs": [],
   "source": [
    "agg_train = aggregate_by_client_id(invoice_train)\n",
    "\n",
    "train = pd.merge(client_train,agg_train, on='client_id', how='left')\n",
    "\n",
    "agg_test = aggregate_by_client_id(invoice_test)\n",
    "test = pd.merge(client_test,agg_test, on='client_id', how='left')\n",
    "\n",
    "drop_columns = ['client_id', 'creation_date']"
   ]
  },
  {
   "cell_type": "code",
   "execution_count": null,
   "id": "4a1268fd",
   "metadata": {},
   "outputs": [],
   "source": [
    "train.sort_values(by='counter_type_ELEC_mean', ascending=True).head(10)"
   ]
  },
  {
   "cell_type": "code",
   "execution_count": null,
   "id": "22f6df01",
   "metadata": {
    "lines_to_next_cell": 2
   },
   "outputs": [],
   "source": [
    "drop_columns = ['client_id', 'counter_type_ELEC_mean', 'counter_type_GAZ_mean', 'counter_type_mean']\n",
    "\n",
    "for col in drop_columns:\n",
    "    if col in train.columns:\n",
    "        train.drop([col], axis=1, inplace=True)\n",
    "    if col in test.columns:\n",
    "        test.drop([col], axis=1, inplace=True)"
   ]
  },
  {
   "cell_type": "code",
   "execution_count": null,
   "id": "890af079",
   "metadata": {},
   "outputs": [],
   "source": [
    "train.head()"
   ]
  },
  {
   "cell_type": "code",
   "execution_count": null,
   "id": "f24c9459",
   "metadata": {
    "lines_to_next_cell": 3
   },
   "outputs": [],
   "source": [
    "train.to_csv('data/data_processed/client_data.csv', index=False)\n",
    "test.to_csv('data/data_processed/validation.csv', index=False)"
   ]
  }
 ],
 "metadata": {
  "jupytext": {
   "cell_metadata_filter": "-all",
   "main_language": "python",
   "notebook_metadata_filter": "-all"
  }
 },
 "nbformat": 4,
 "nbformat_minor": 5
}
