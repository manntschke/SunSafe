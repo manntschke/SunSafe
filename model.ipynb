{
 "cells": [
  {
   "cell_type": "markdown",
   "metadata": {},
   "source": [
    "## Model\n"
   ]
  },
  {
   "cell_type": "code",
   "execution_count": 1,
   "metadata": {},
   "outputs": [],
   "source": [
    "import pandas as pd\n",
    "import numpy as np\n",
    "from sklearn.model_selection import train_test_split\n",
    "from xgboost import XGBClassifier\n",
    "from sklearn.metrics import classification_report, confusion_matrix\n",
    "from sklearn.tree import DecisionTreeClassifier\n",
    "from sklearn.linear_model import LogisticRegression\n",
    "from sklearn.pipeline import Pipeline\n"
   ]
  },
  {
   "cell_type": "markdown",
   "metadata": {},
   "source": [
    "#### Preparation"
   ]
  },
  {
   "cell_type": "code",
   "execution_count": 2,
   "metadata": {},
   "outputs": [],
   "source": [
    "# load data\n",
    "df = pd.read_csv(\"data/data_processed/client_data.csv\")\n",
    "\n",
    "# feature target separation\n",
    "X = df.drop(columns=[\"target\"])  \n",
    "y = df[\"target\"]\n",
    "\n",
    "# train test split\n",
    "X_train, X_test, y_train, y_test = train_test_split(X, y, test_size=0.3, random_state=42)\n",
    "\n",
    "# unbalanced dataset?\n",
    "scale_pos_weight = y_train.value_counts()[0] / y_train.value_counts()[1]\n"
   ]
  },
  {
   "cell_type": "markdown",
   "metadata": {},
   "source": [
    "#### Stage 1 XGBoost"
   ]
  },
  {
   "cell_type": "code",
   "execution_count": 6,
   "metadata": {},
   "outputs": [],
   "source": [
    "# stage one xgboost model\n",
    "model_stage1 = XGBClassifier(n_estimators=500,\n",
    "    max_depth=5,        # avoids overfitting\n",
    "    learning_rate=0.05, # Slow learning\n",
    "    subsample=0.8,      # randomness\n",
    "    colsample_bytree=0.8, \n",
    "    scale_pos_weight=scale_pos_weight,  # Adjust based on fraud ratio\n",
    "    eval_metric=\"aucpr\") \n",
    "# training\n",
    "model_stage1.fit(X_train, y_train)\n",
    "\n",
    "# probabilities for fraud\n",
    "fraud_probs_stage1 = model_stage1.predict_proba(X_test)[:, 1]  \n",
    "\n",
    "# Fraud probabilities for second stage model > 50%\n",
    "suspicious_cases = X_test[fraud_probs_stage1 > 0.30]\n",
    "y_suspicious = y_test[fraud_probs_stage1 > 0.30]"
   ]
  },
  {
   "cell_type": "code",
   "execution_count": 4,
   "metadata": {},
   "outputs": [
    {
     "name": "stdout",
     "output_type": "stream",
     "text": [
      "              precision    recall  f1-score   support\n",
      "\n",
      "         0.0       0.97      0.70      0.81     38334\n",
      "         1.0       0.12      0.66      0.20      2314\n",
      "\n",
      "    accuracy                           0.70     40648\n",
      "   macro avg       0.54      0.68      0.51     40648\n",
      "weighted avg       0.92      0.70      0.78     40648\n",
      "\n"
     ]
    }
   ],
   "source": [
    "#classification report for stage 1\n",
    "print(classification_report(y_test, model_stage1.predict(X_test)))"
   ]
  },
  {
   "cell_type": "code",
   "execution_count": 5,
   "metadata": {},
   "outputs": [
    {
     "name": "stdout",
     "output_type": "stream",
     "text": [
      "[[26813 11521]\n",
      " [  784  1530]]\n"
     ]
    }
   ],
   "source": [
    "#confusion matrix for stage 1\n",
    "print(confusion_matrix(y_test, model_stage1.predict(X_test)))"
   ]
  },
  {
   "cell_type": "markdown",
   "metadata": {},
   "source": [
    "#### Stage 2 Decision tree"
   ]
  },
  {
   "cell_type": "code",
   "execution_count": 7,
   "metadata": {},
   "outputs": [],
   "source": [
    "# decision tree for second stage\n",
    "dt_model_stage2 = DecisionTreeClassifier(max_depth=10)\n",
    "dt_model_stage2.fit(suspicious_cases, y_suspicious)\n",
    "\n",
    "\n",
    "fraud_probs_stage2 = dt_model_stage2.predict_proba(suspicious_cases)[:, 1]\n",
    "\n",
    "# categorize risk\n",
    "def risk_category(prob):\n",
    "    if prob > 0.7:\n",
    "        return \"High Risk\"\n",
    "    elif prob > 0.4:\n",
    "        return \"Medium Risk\"\n",
    "    else:\n",
    "        return \"Low Risk\"\n",
    "\n",
    "suspicious_cases_output = suspicious_cases.copy() \n",
    "suspicious_cases_output[\"Risk Level\"] = [risk_category(p) for p in fraud_probs_stage2]\n"
   ]
  },
  {
   "cell_type": "code",
   "execution_count": 8,
   "metadata": {},
   "outputs": [
    {
     "data": {
      "text/html": [
       "<div>\n",
       "<style scoped>\n",
       "    .dataframe tbody tr th:only-of-type {\n",
       "        vertical-align: middle;\n",
       "    }\n",
       "\n",
       "    .dataframe tbody tr th {\n",
       "        vertical-align: top;\n",
       "    }\n",
       "\n",
       "    .dataframe thead th {\n",
       "        text-align: right;\n",
       "    }\n",
       "</style>\n",
       "<table border=\"1\" class=\"dataframe\">\n",
       "  <thead>\n",
       "    <tr style=\"text-align: right;\">\n",
       "      <th></th>\n",
       "      <th>disrict</th>\n",
       "      <th>client_catg</th>\n",
       "      <th>region</th>\n",
       "      <th>1transactions_count</th>\n",
       "      <th>consommation_level_1_mean</th>\n",
       "      <th>consommation_level_2_mean</th>\n",
       "      <th>consommation_level_3_mean</th>\n",
       "      <th>consommation_level_4_mean</th>\n",
       "      <th>Risk Level</th>\n",
       "    </tr>\n",
       "  </thead>\n",
       "  <tbody>\n",
       "    <tr>\n",
       "      <th>74207</th>\n",
       "      <td>69</td>\n",
       "      <td>11</td>\n",
       "      <td>103</td>\n",
       "      <td>67</td>\n",
       "      <td>646.014925</td>\n",
       "      <td>147.223881</td>\n",
       "      <td>153.328358</td>\n",
       "      <td>260.134328</td>\n",
       "      <td>High Risk</td>\n",
       "    </tr>\n",
       "    <tr>\n",
       "      <th>69190</th>\n",
       "      <td>62</td>\n",
       "      <td>11</td>\n",
       "      <td>304</td>\n",
       "      <td>20</td>\n",
       "      <td>769.350000</td>\n",
       "      <td>745.600000</td>\n",
       "      <td>243.100000</td>\n",
       "      <td>0.000000</td>\n",
       "      <td>High Risk</td>\n",
       "    </tr>\n",
       "    <tr>\n",
       "      <th>74113</th>\n",
       "      <td>69</td>\n",
       "      <td>51</td>\n",
       "      <td>104</td>\n",
       "      <td>66</td>\n",
       "      <td>374.696970</td>\n",
       "      <td>66.666667</td>\n",
       "      <td>132.348485</td>\n",
       "      <td>1094.560606</td>\n",
       "      <td>High Risk</td>\n",
       "    </tr>\n",
       "    <tr>\n",
       "      <th>39184</th>\n",
       "      <td>69</td>\n",
       "      <td>11</td>\n",
       "      <td>103</td>\n",
       "      <td>16</td>\n",
       "      <td>607.500000</td>\n",
       "      <td>15.125000</td>\n",
       "      <td>25.000000</td>\n",
       "      <td>25.250000</td>\n",
       "      <td>High Risk</td>\n",
       "    </tr>\n",
       "    <tr>\n",
       "      <th>70978</th>\n",
       "      <td>69</td>\n",
       "      <td>11</td>\n",
       "      <td>103</td>\n",
       "      <td>17</td>\n",
       "      <td>1066.882353</td>\n",
       "      <td>2224.411765</td>\n",
       "      <td>345.235294</td>\n",
       "      <td>1054.352941</td>\n",
       "      <td>High Risk</td>\n",
       "    </tr>\n",
       "  </tbody>\n",
       "</table>\n",
       "</div>"
      ],
      "text/plain": [
       "       disrict  client_catg  region  1transactions_count   \n",
       "74207       69           11     103                   67  \\\n",
       "69190       62           11     304                   20   \n",
       "74113       69           51     104                   66   \n",
       "39184       69           11     103                   16   \n",
       "70978       69           11     103                   17   \n",
       "\n",
       "       consommation_level_1_mean  consommation_level_2_mean   \n",
       "74207                 646.014925                 147.223881  \\\n",
       "69190                 769.350000                 745.600000   \n",
       "74113                 374.696970                  66.666667   \n",
       "39184                 607.500000                  15.125000   \n",
       "70978                1066.882353                2224.411765   \n",
       "\n",
       "       consommation_level_3_mean  consommation_level_4_mean Risk Level  \n",
       "74207                 153.328358                 260.134328  High Risk  \n",
       "69190                 243.100000                   0.000000  High Risk  \n",
       "74113                 132.348485                1094.560606  High Risk  \n",
       "39184                  25.000000                  25.250000  High Risk  \n",
       "70978                 345.235294                1054.352941  High Risk  "
      ]
     },
     "execution_count": 8,
     "metadata": {},
     "output_type": "execute_result"
    }
   ],
   "source": [
    "high_risk_cases = suspicious_cases_output[suspicious_cases_output[\"Risk Level\"] == \"High Risk\"]\n",
    "high_risk_cases.head()"
   ]
  },
  {
   "cell_type": "code",
   "execution_count": 9,
   "metadata": {},
   "outputs": [
    {
     "name": "stdout",
     "output_type": "stream",
     "text": [
      "              precision    recall  f1-score   support\n",
      "\n",
      "         0.0       0.93      1.00      0.96     23173\n",
      "         1.0       0.84      0.13      0.23      2068\n",
      "\n",
      "    accuracy                           0.93     25241\n",
      "   macro avg       0.88      0.56      0.59     25241\n",
      "weighted avg       0.92      0.93      0.90     25241\n",
      "\n"
     ]
    }
   ],
   "source": [
    "#classification report for stage 2\n",
    "print(classification_report(y_suspicious, dt_model_stage2.predict(suspicious_cases)))"
   ]
  },
  {
   "cell_type": "code",
   "execution_count": 10,
   "metadata": {},
   "outputs": [
    {
     "name": "stdout",
     "output_type": "stream",
     "text": [
      "[[23121    52]\n",
      " [ 1799   269]]\n"
     ]
    }
   ],
   "source": [
    "#confusion matrix for stage 2\n",
    "print(confusion_matrix(y_suspicious, dt_model_stage2.predict(suspicious_cases)))"
   ]
  },
  {
   "cell_type": "markdown",
   "metadata": {},
   "source": [
    "#### Stage 2 Logistic regression"
   ]
  },
  {
   "cell_type": "code",
   "execution_count": 11,
   "metadata": {},
   "outputs": [
    {
     "name": "stdout",
     "output_type": "stream",
     "text": [
      "              precision    recall  f1-score   support\n",
      "\n",
      "         0.0       0.94      0.61      0.74     23173\n",
      "         1.0       0.11      0.55      0.19      2068\n",
      "\n",
      "    accuracy                           0.61     25241\n",
      "   macro avg       0.53      0.58      0.46     25241\n",
      "weighted avg       0.87      0.61      0.70     25241\n",
      "\n"
     ]
    }
   ],
   "source": [
    "# logistic regression for second stage\n",
    "lr_model_stage2 = LogisticRegression(C=0.1, \n",
    "    penalty='l1', \n",
    "    solver='liblinear', \n",
    "    class_weight='balanced', \n",
    "    max_iter=500)\n",
    "\n",
    "lr_model_stage2.fit(suspicious_cases, y_suspicious)\n",
    "lr_model_stage2.predict_proba(suspicious_cases)[:, 1]\n",
    "\n",
    "#classification report for stage 2\n",
    "print(classification_report(y_suspicious, lr_model_stage2.predict(suspicious_cases)))       "
   ]
  },
  {
   "cell_type": "code",
   "execution_count": 12,
   "metadata": {},
   "outputs": [
    {
     "name": "stdout",
     "output_type": "stream",
     "text": [
      "[[14248  8925]\n",
      " [  937  1131]]\n"
     ]
    }
   ],
   "source": [
    "#confusion matrix for stage 2 lr\n",
    "print(confusion_matrix(y_suspicious, lr_model_stage2.predict(suspicious_cases)))"
   ]
  },
  {
   "cell_type": "markdown",
   "metadata": {},
   "source": [
    "### Testing on new data"
   ]
  },
  {
   "cell_type": "code",
   "execution_count": null,
   "metadata": {},
   "outputs": [],
   "source": [
    "# new_data = pd.read_csv(\"new_test_data.csv\")\n",
    "\n",
    "# # First stage\n",
    "# new_fraud_probs_stage1 = model_stage1.predict_proba(new_data)[:, 1]\n",
    "# new_suspicious_cases = new_data[new_fraud_probs_stage1 > 0.3]\n",
    "\n",
    "# # second stage\n",
    "# new_fraud_probs_stage2 = model_stage2.predict_proba(new_suspicious_cases)[:, 1]\n",
    "# new_suspicious_cases[\"Risk Level\"] = [risk_category(p) for p in new_fraud_probs_stage2]\n",
    "\n",
    "# # printing suspicious cases\n",
    "# new_suspicious_cases.to_csv(\"data/output/sunsafe_risk_predictions.csv\", index=False)\n",
    "# print(\"printed suspicious cases to sunsafe_risk_predictions.csv\")"
   ]
  }
 ],
 "metadata": {
  "kernelspec": {
   "display_name": ".venv",
   "language": "python",
   "name": "python3"
  },
  "language_info": {
   "codemirror_mode": {
    "name": "ipython",
    "version": 3
   },
   "file_extension": ".py",
   "mimetype": "text/x-python",
   "name": "python",
   "nbconvert_exporter": "python",
   "pygments_lexer": "ipython3",
   "version": "3.11.3"
  }
 },
 "nbformat": 4,
 "nbformat_minor": 2
}
