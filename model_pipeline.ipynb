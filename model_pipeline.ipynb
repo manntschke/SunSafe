{
 "cells": [
  {
   "cell_type": "code",
   "execution_count": 1,
   "id": "c5d9d2b5",
   "metadata": {
    "title": "libraries"
   },
   "outputs": [],
   "source": [
    "import pandas as pd\n",
    "import numpy as np\n",
    "from sklearn.model_selection import train_test_split\n",
    "from sklearn.preprocessing import StandardScaler, RobustScaler\n",
    "from sklearn.pipeline import Pipeline\n",
    "from sklearn.compose import ColumnTransformer\n",
    "from sklearn.impute import SimpleImputer\n",
    "from sklearn.preprocessing import OneHotEncoder\n",
    "from sklearn.ensemble import RandomForestClassifier\n",
    "from sklearn.metrics import accuracy_score"
   ]
  },
  {
   "cell_type": "code",
   "execution_count": 2,
   "id": "36ee7038",
   "metadata": {},
   "outputs": [],
   "source": [
    "# load data_processed/client_data as df\n",
    "df = pd.read_csv('data/data_processed/client_data.csv')"
   ]
  },
  {
   "cell_type": "code",
   "execution_count": null,
   "id": "4e923df5",
   "metadata": {
    "title": "# adjust later as needed"
   },
   "outputs": [],
   "source": [
    "\n",
    "# make categorical columns\n",
    "cat_features  = ['disrict', 'client_catg', 'region']\n",
    "\n",
    "# assign categorical columns in df\n",
    "df[cat_features] = df[cat_features].astype('category')\n",
    "df.info()\n",
    "\n",
    "# numerical columns\n",
    "num_col = df.select_dtypes(include=['int64', 'float64']).columns\n",
    "num_features = [col for col in num_col if col != 'target']"
   ]
  },
  {
   "cell_type": "code",
   "execution_count": null,
   "id": "80cefe2a",
   "metadata": {
    "title": "assign categorical columns (adjust later)"
   },
   "outputs": [],
   "source": [
    "n_unique = df[cat_features].nunique() # note \"regions\" are a lot\"\n",
    "print(n_unique)"
   ]
  },
  {
   "cell_type": "markdown",
   "id": "f59a67eb",
   "metadata": {},
   "source": [
    "## adress imbalance \n",
    "Best Approach for SunSafe Sentinel?\n",
    "- Start with scale_pos_weight in XGBoost (since tree models handle imbalance better).\n",
    "- If imbalance is extreme (>99% non-fraud), use SMOTE + weighted XGBoost.\n",
    "- If dataset is massive, try undersampling + anomaly pre-filtering.\n",
    "\n"
   ]
  },
  {
   "cell_type": "code",
   "execution_count": 5,
   "id": "4e7dae26",
   "metadata": {
    "lines_to_next_cell": 2,
    "title": "pipelines for data dypes"
   },
   "outputs": [],
   "source": [
    "# pipeline for categorical columns\n",
    "cat_transformer = Pipeline(steps=[\n",
    "    ('onehot', OneHotEncoder(handle_unknown='ignore'))\n",
    "])\n",
    "\n",
    "# pipeline for numerical columns\n",
    "num_transformer = Pipeline(steps=[\n",
    "    ('scaler', RobustScaler()) # adjust scaler if needed\n",
    "])"
   ]
  },
  {
   "cell_type": "code",
   "execution_count": 6,
   "id": "95ec8885",
   "metadata": {
    "lines_to_next_cell": 0,
    "title": "Column transformer for parallel transformation"
   },
   "outputs": [],
   "source": [
    "# columnTransformer\n",
    "preprocessor = ColumnTransformer(\n",
    "    transformers=[\n",
    "        ('num', num_transformer, num_features),\n",
    "        ('cat', cat_transformer, cat_features)\n",
    "    ]\n",
    ")"
   ]
  },
  {
   "cell_type": "code",
   "execution_count": 7,
   "id": "c4034cb5",
   "metadata": {
    "title": "split data"
   },
   "outputs": [],
   "source": [
    "X = df.drop('target', axis=1)\n",
    "y = df['target']\n",
    "X_train, X_test, y_train, y_test = train_test_split(X, y, test_size=0.2, random_state=42)"
   ]
  },
  {
   "cell_type": "code",
   "execution_count": 8,
   "id": "c2c9b9bd",
   "metadata": {
    "title": "Param grid"
   },
   "outputs": [],
   "source": [
    "RSEED=42\n",
    "from sklearn.model_selection import RandomizedSearchCV\n",
    "# Hyperparameter grid\n",
    "# param_grid = {\n",
    "#     'n_estimators': np.arange(10, 201).astype(int),\n",
    "#     'max_depth': [None] + list(np.arange(3, 21).astype(int)),\n",
    "#     'max_features': ['auto', 'sqrt', None] + list(np.arange(0.5, 1, 0.1)),\n",
    "#     'max_leaf_nodes': [None] + list(np.arange(10, 51).astype(int)),\n",
    "#     'min_samples_split': [2, 5, 10],\n",
    "#     'bootstrap': [True, False]\n",
    "# }\n",
    "\n",
    "param_grid = {\n",
    "    'n_estimators': [10], # number of trees\n",
    "    'max_depth': [5] ,# maximum depth of the tree\n",
    "    'max_features': ['sqrt'] ,# number of features to consider when looking for the best split\n",
    "    'max_leaf_nodes': [None],# maximum number of leaf nodes in base trees\n",
    "    'min_samples_split': [2, 5, 10],# minimum number of samples required to split an internal node\n",
    "    'bootstrap': [True, False] # whether bootstrap samples are used when building trees \n",
    "}"
   ]
  },
  {
   "cell_type": "code",
   "execution_count": 9,
   "id": "cf7003ee",
   "metadata": {
    "title": "Estimator for use in random search"
   },
   "outputs": [],
   "source": [
    "estimator = RandomForestClassifier(random_state = RSEED)\n",
    "# Create the random search model\n",
    "rs = RandomizedSearchCV(estimator, param_grid, n_jobs = -1,\n",
    "                        scoring = 'roc_auc', cv = 3,\n",
    "                        n_iter = 10, verbose = 5, random_state=RSEED)"
   ]
  },
  {
   "cell_type": "code",
   "execution_count": 10,
   "id": "cc4d5159",
   "metadata": {
    "title": "pipeline to fit"
   },
   "outputs": [],
   "source": [
    "model_stoneage = Pipeline(steps=[('preprocessor', preprocessor),\n",
    "                           ('classifier', rs)])                                 "
   ]
  },
  {
   "cell_type": "code",
   "execution_count": null,
   "id": "005dbc9b",
   "metadata": {},
   "outputs": [],
   "source": [
    "from joblib import dump\n",
    "# Fit\n",
    "model_stoneage.fit(X_train, y_train)"
   ]
  },
  {
   "cell_type": "code",
   "execution_count": null,
   "id": "e3e8985d",
   "metadata": {},
   "outputs": [],
   "source": [
    "# Save the model, train-test split data, and grid search results in the same pkl file\n",
    "dump({'model': model_stoneage,\n",
    "          'X_train': X_train, \n",
    "          'X_test': X_test, \n",
    "          'y_train': y_train, \n",
    "          'y_test': y_test}, \n",
    "         'models/model_stoneage.pkl')\n",
    "\n",
    "# # %%\n",
    "# import joblib\n",
    "\n",
    "# # Save the model and train-test split data in the same pkl file\n",
    "# with open('model_and_data.pkl', 'wb') as f:\n",
    "#     joblib.dump({'model': grid_search, 'X_train': X_train, 'X_test': X_test, 'y_train': y_train, 'y_test': y_test}, f)"
   ]
  }
 ],
 "metadata": {
  "jupytext": {
   "cell_metadata_filter": "title,-all",
   "main_language": "python",
   "notebook_metadata_filter": "-all"
  },
  "kernelspec": {
   "display_name": ".venv",
   "language": "python",
   "name": "python3"
  },
  "language_info": {
   "codemirror_mode": {
    "name": "ipython",
    "version": 3
   },
   "file_extension": ".py",
   "mimetype": "text/x-python",
   "name": "python",
   "nbconvert_exporter": "python",
   "pygments_lexer": "ipython3",
   "version": "3.11.3"
  }
 },
 "nbformat": 4,
 "nbformat_minor": 5
}
