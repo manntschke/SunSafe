{
 "cells": [
  {
   "cell_type": "code",
   "execution_count": 1,
   "id": "b4a8d096",
   "metadata": {},
   "outputs": [],
   "source": [
    "import pandas as pd\n",
    "import numpy as np\n",
    "import matplotlib\n",
    "import matplotlib.pyplot as plt\n",
    "import seaborn as sns\n",
    "import os"
   ]
  },
  {
   "cell_type": "code",
   "execution_count": 2,
   "id": "70eaa39d",
   "metadata": {
    "lines_to_next_cell": 2,
    "title": "only execute once to get files"
   },
   "outputs": [],
   "source": [
    "# from import_script import import_script\n",
    "# import_script()"
   ]
  },
  {
   "cell_type": "code",
   "execution_count": 3,
   "id": "1f358146",
   "metadata": {},
   "outputs": [],
   "source": [
    "# Load data\n",
    "df = pd.read_csv('data/data_processed/client_data.csv')"
   ]
  },
  {
   "cell_type": "code",
   "execution_count": null,
   "id": "d437f12d",
   "metadata": {},
   "outputs": [],
   "source": [
    "# Check data\n",
    "print(df.head())\n",
    "print(df.info())\n",
    "print(df.describe())"
   ]
  },
  {
   "cell_type": "code",
   "execution_count": null,
   "id": "25be29f7",
   "metadata": {},
   "outputs": [],
   "source": [
    "# Check missing values\n",
    "print(df.isnull().sum())"
   ]
  },
  {
   "cell_type": "code",
   "execution_count": null,
   "id": "5852734a",
   "metadata": {},
   "outputs": [],
   "source": [
    "# Check unique values\n",
    "print(df.nunique())"
   ]
  },
  {
   "cell_type": "code",
   "execution_count": null,
   "id": "2751503b",
   "metadata": {
    "lines_to_next_cell": 2
   },
   "outputs": [],
   "source": [
    "# Check distribution of target variable\n",
    "sns.countplot(data=df, x='target', palette='viridis')\n",
    "plt.title('Distribution of target variable')\n",
    "plt.show()\n",
    "plt.clf()"
   ]
  },
  {
   "cell_type": "code",
   "execution_count": null,
   "id": "0259632f",
   "metadata": {},
   "outputs": [],
   "source": [
    "# histogram of numerical variables\n",
    "numerical_columns = df.select_dtypes(include=[np.number]).columns\n",
    "num_plots = len(numerical_columns)\n",
    "num_cols = 3  # Number of subplots per row\n",
    "num_rows = (num_plots + num_cols - 1) // num_cols  # Calculate number of rows needed\n",
    "fig, axes = plt.subplots(num_rows, num_cols, figsize=(5 * num_cols, 5 * num_rows))\n",
    "\n",
    "# Flatten axes array if there are multiple rows\n",
    "if num_rows > 1:\n",
    "    axes = axes.flatten()\n",
    "else:\n",
    "    axes = [axes]  # Ensure axes is always a list\n",
    "\n",
    "colors = sns.color_palette('viridis', len(df['target'].unique()))\n",
    "\n",
    "for ax, column in zip(axes, numerical_columns):\n",
    "    for target_level, color in zip(df['target'].unique(), colors):\n",
    "        subset = df[df['target'] == target_level]\n",
    "        subset[column].hist(ax=ax, bins=30, alpha=0.8, edgecolor='black', label=f'Target {target_level}', color=color)\n",
    "    ax.set_title(f'{column}', fontsize=20)\n",
    "    ax.legend(fontsize=14)\n",
    "    ax.tick_params(axis='x', rotation=90, labelsize=16)\n",
    "    ax.tick_params(axis='y', labelsize=16)\n",
    "    ax.grid(False)  # Disable gridlines inside the plot\n",
    "    for spine in ax.spines.values():\n",
    "        spine.set_edgecolor('#d3d3d3')  # Set color of the subplot borders\n",
    "# Remove any unused subplots\n",
    "if num_plots < len(axes):\n",
    "    for i in range(num_plots, len(axes)):\n",
    "        fig.delaxes(axes[i])\n",
    "\n",
    "plt.tight_layout()\n",
    "plt.show()"
   ]
  },
  {
   "cell_type": "code",
   "execution_count": null,
   "id": "cec367c6",
   "metadata": {},
   "outputs": [],
   "source": [
    "# Check distribution of numerical variables colored by target level\n",
    "numerical_columns = df.select_dtypes(include=[np.number]).columns\n",
    "\n",
    "for column in numerical_columns:\n",
    "    g = sns.FacetGrid(df, col='target', hue='target', sharey=False, height=4, aspect=1.5, palette='viridis', legend_out=False)\n",
    "    g.map(sns.histplot, column, bins=30, edgecolor='black')\n",
    "    g.add_legend()\n",
    "    g.figure.suptitle(f'Distribution of {column} by Target Level', y=1.05)\n",
    "    plt.show()\n",
    "    plt.clf()\n",
    "    plt.close('all')\n",
    "    del g"
   ]
  },
  {
   "cell_type": "code",
   "execution_count": null,
   "id": "2655c278",
   "metadata": {},
   "outputs": [],
   "source": [
    "# boxplot of numerical variables with log scale for y-axis\n",
    "numerical_columns = [col for col in numerical_columns if col not in ['client_cat', 'target']]\n",
    "for column in numerical_columns:\n",
    "    sns.boxplot(data=df, x='target', y=column, palette='viridis')\n",
    "    plt.yscale('log')  # Set y-axis to log scale\n",
    "    plt.title(f'Log {column} by Target')\n",
    "    plt.show()"
   ]
  },
  {
   "cell_type": "code",
   "execution_count": null,
   "id": "d5751aa5",
   "metadata": {},
   "outputs": [],
   "source": [
    "# categorical variables\n",
    "# Plot for client_cat\n",
    "sns.countplot(data=df, x='client_catg', hue='target', palette='viridis')\n",
    "plt.title('client_cat by Target')\n",
    "plt.xticks(rotation=90)\n",
    "plt.show()"
   ]
  },
  {
   "cell_type": "code",
   "execution_count": null,
   "id": "c33e42fc",
   "metadata": {},
   "outputs": [],
   "source": [
    "# Convert categorical columns to type 'category'\n",
    "categorical_columns = ['disrict', 'client_catg', 'region', 'target']\n",
    "for column in categorical_columns:\n",
    "    df[column] = df[column].astype('category')\n",
    "\n",
    "print(df.dtypes)"
   ]
  },
  {
   "cell_type": "code",
   "execution_count": null,
   "id": "f4c8978f",
   "metadata": {},
   "outputs": [],
   "source": [
    "# Count unique values for float and integer data types\n",
    "numerical_columns = df.select_dtypes(include=[np.number]).columns\n",
    "\n",
    "for column in numerical_columns:\n",
    "    unique_values = df[column].nunique()\n",
    "    print(f'Column {column} has {unique_values} unique values')"
   ]
  },
  {
   "cell_type": "code",
   "execution_count": 14,
   "id": "8e5c27ce",
   "metadata": {},
   "outputs": [],
   "source": [
    "# Copy data and set 0 to NaN in all columns containing \"consum\" in the column name\n",
    "df_copy = df.copy()\n",
    "consum_columns = [col for col in df_copy.columns if 'consum' in col]\n",
    "\n",
    "for column in consum_columns:\n",
    "    df_copy[column] = df_copy[column].replace(0, np.nan)\n",
    "\n",
    "#print(df_copy.head())\n",
    "#print(df_copy.describe())"
   ]
  },
  {
   "cell_type": "code",
   "execution_count": null,
   "id": "c65cd294",
   "metadata": {
    "lines_to_next_cell": 0
   },
   "outputs": [],
   "source": [
    "numerical_columns = df_copy.select_dtypes(include=[np.number]).columns\n",
    "\n",
    "for column in numerical_columns:\n",
    "    g = sns.FacetGrid(df_copy, col='target', hue='target', sharey=False, height=4, aspect=1.5, palette='viridis', legend_out=False)\n",
    "    g.map(sns.histplot, column, bins=30, edgecolor='black')\n",
    "    g.add_legend()\n",
    "    g.figure.suptitle(f'Distribution of {column} by Target Level', y=1.05)\n",
    "    plt.show()\n",
    "    plt.clf()\n",
    "    plt.close('all')\n",
    "    del g"
   ]
  }
 ],
 "metadata": {
  "jupytext": {
   "cell_metadata_filter": "title,-all",
   "main_language": "python",
   "notebook_metadata_filter": "-all"
  },
  "kernelspec": {
   "display_name": ".venv",
   "language": "python",
   "name": "python3"
  },
  "language_info": {
   "codemirror_mode": {
    "name": "ipython",
    "version": 3
   },
   "file_extension": ".py",
   "mimetype": "text/x-python",
   "name": "python",
   "nbconvert_exporter": "python",
   "pygments_lexer": "ipython3",
   "version": "3.11.3"
  }
 },
 "nbformat": 4,
 "nbformat_minor": 5
}
