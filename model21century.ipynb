{
 "cells": [
  {
   "cell_type": "markdown",
   "metadata": {},
   "source": [
    "## Tsfresh data preparation\n"
   ]
  },
  {
   "cell_type": "code",
   "execution_count": 3,
   "metadata": {},
   "outputs": [],
   "source": [
    "import pandas as pd\n",
    "import numpy as np\n",
    "import matplotlib\n",
    "import matplotlib.pyplot as plt\n",
    "import seaborn as sns\n",
    "from sklearn.pipeline import Pipeline\n",
    "from sklearn.preprocessing import OneHotEncoder\n",
    "from sklearn.compose import ColumnTransformer\n",
    "from sklearn.model_selection import train_test_split\n",
    "from xgboost import XGBClassifier\n",
    "from sklearn.metrics import classification_report, confusion_matrix\n",
    "from sklearn.tree import DecisionTreeClassifier\n",
    "from sklearn.linear_model import LogisticRegression\n",
    "from sklearn.pipeline import Pipeline\n",
    "from sklearn.impute import SimpleImputer\n",
    "from sklearn.base import BaseEstimator, TransformerMixin\n",
    "from sklearn.model_selection import RandomizedSearchCV\n",
    "from imblearn.over_sampling import RandomOverSampler\n",
    "from imblearn.pipeline import make_pipeline as imb_pipe\n"
   ]
  },
  {
   "cell_type": "code",
   "execution_count": 4,
   "metadata": {},
   "outputs": [],
   "source": [
    "df = pd.read_csv('data/data_processed/client_data.csv')"
   ]
  },
  {
   "cell_type": "code",
   "execution_count": null,
   "metadata": {},
   "outputs": [],
   "source": [
    "merged_df = df.copy()"
   ]
  },
  {
   "cell_type": "code",
   "execution_count": 6,
   "metadata": {},
   "outputs": [],
   "source": [
    "#drop the columns\n",
    "merged_df.drop(\"creation_date\", axis=1, inplace=True)"
   ]
  },
  {
   "cell_type": "code",
   "execution_count": 7,
   "metadata": {},
   "outputs": [],
   "source": [
    "# Convert invoice_date to datetime\n",
    "merged_df"
   ]
  },
  {
   "cell_type": "code",
   "execution_count": null,
   "metadata": {},
   "outputs": [],
   "source": [
    "#defining the target variable and features\n",
    "target = ['target']\n",
    "num_features = ['client_id',\n",
    "                '1transactions_count',\n",
    "                'consumption_level_1_mean',\n",
    "                'consumption_level_2_mean',\n",
    "                'consumption_level_3_mean',\n",
    "                'consumption_level_4_mean']\n",
    "cat_features = [col for col in merged_df.columns if col not in num_features and col not in target]"
   ]
  },
  {
   "cell_type": "code",
   "execution_count": null,
   "metadata": {},
   "outputs": [],
   "source": [
    "#preprocessing categorical features\n",
    "cat_pipeline = Pipeline([\n",
    "    ('simple_imputer', SimpleImputer(strategy='most_frequent', fill_value='missing')),\n",
    "    ('one_hot_encoding', OneHotEncoder())\n",
    "])"
   ]
  },
  {
   "cell_type": "code",
   "execution_count": null,
   "metadata": {},
   "outputs": [],
   "source": [
    "preprocessor = ColumnTransformer([\n",
    "    ('cat', cat_pipeline, cat_features),\n",
    "    #('num', num_pipeline, num_features)\n",
    "], remainder='passthrough')"
   ]
  },
  {
   "cell_type": "code",
   "execution_count": null,
   "metadata": {},
   "outputs": [],
   "source": [
    "df = merged_df.copy()\n",
    "X = df.drop(columns=[\"target\"], axis=1)  \n",
    "y = df[\"target\"]\n",
    "\n",
    "# train test split\n",
    "X_train, X_test, y_train, y_test = train_test_split(X, y, test_size=0.3, random_state=42, stratify=y)"
   ]
  },
  {
   "cell_type": "code",
   "execution_count": null,
   "metadata": {},
   "outputs": [],
   "source": [
    "# unbalanced dataset?\n",
    "scale_pos_weight = y_train.value_counts()[0] / y_train.value_counts()[1]"
   ]
  },
  {
   "cell_type": "code",
   "execution_count": null,
   "metadata": {},
   "outputs": [],
   "source": [
    "model_stage1 = XGBClassifier()\n",
    "                            # n_estimators=500, \n",
    "                            #  random_state=42,\n",
    "                            #  max_depth=5,        # avoids overfitting\n",
    "                            # learning_rate=0.05, # Slow learning\n",
    "                            # subsample=0.8,      # randomness\n",
    "                            # colsample_bytree=0.8, \n",
    "                            # scale_pos_weight=scale_pos_weight,  # Adjust based on fraud ratio\n",
    "                            # eval_metric=\"aucpr\") "
   ]
  },
  {
   "cell_type": "code",
   "execution_count": null,
   "metadata": {},
   "outputs": [],
   "source": [
    "model_pipeline = Pipeline([\n",
    "    ('preprocessor', preprocessor),\n",
    "    ('model', model_stage1) \n",
    "])"
   ]
  },
  {
   "cell_type": "code",
   "execution_count": 16,
   "metadata": {},
   "outputs": [
    {
     "data": {
      "text/html": [
       "<style>#sk-container-id-1 {color: black;background-color: white;}#sk-container-id-1 pre{padding: 0;}#sk-container-id-1 div.sk-toggleable {background-color: white;}#sk-container-id-1 label.sk-toggleable__label {cursor: pointer;display: block;width: 100%;margin-bottom: 0;padding: 0.3em;box-sizing: border-box;text-align: center;}#sk-container-id-1 label.sk-toggleable__label-arrow:before {content: \"▸\";float: left;margin-right: 0.25em;color: #696969;}#sk-container-id-1 label.sk-toggleable__label-arrow:hover:before {color: black;}#sk-container-id-1 div.sk-estimator:hover label.sk-toggleable__label-arrow:before {color: black;}#sk-container-id-1 div.sk-toggleable__content {max-height: 0;max-width: 0;overflow: hidden;text-align: left;background-color: #f0f8ff;}#sk-container-id-1 div.sk-toggleable__content pre {margin: 0.2em;color: black;border-radius: 0.25em;background-color: #f0f8ff;}#sk-container-id-1 input.sk-toggleable__control:checked~div.sk-toggleable__content {max-height: 200px;max-width: 100%;overflow: auto;}#sk-container-id-1 input.sk-toggleable__control:checked~label.sk-toggleable__label-arrow:before {content: \"▾\";}#sk-container-id-1 div.sk-estimator input.sk-toggleable__control:checked~label.sk-toggleable__label {background-color: #d4ebff;}#sk-container-id-1 div.sk-label input.sk-toggleable__control:checked~label.sk-toggleable__label {background-color: #d4ebff;}#sk-container-id-1 input.sk-hidden--visually {border: 0;clip: rect(1px 1px 1px 1px);clip: rect(1px, 1px, 1px, 1px);height: 1px;margin: -1px;overflow: hidden;padding: 0;position: absolute;width: 1px;}#sk-container-id-1 div.sk-estimator {font-family: monospace;background-color: #f0f8ff;border: 1px dotted black;border-radius: 0.25em;box-sizing: border-box;margin-bottom: 0.5em;}#sk-container-id-1 div.sk-estimator:hover {background-color: #d4ebff;}#sk-container-id-1 div.sk-parallel-item::after {content: \"\";width: 100%;border-bottom: 1px solid gray;flex-grow: 1;}#sk-container-id-1 div.sk-label:hover label.sk-toggleable__label {background-color: #d4ebff;}#sk-container-id-1 div.sk-serial::before {content: \"\";position: absolute;border-left: 1px solid gray;box-sizing: border-box;top: 0;bottom: 0;left: 50%;z-index: 0;}#sk-container-id-1 div.sk-serial {display: flex;flex-direction: column;align-items: center;background-color: white;padding-right: 0.2em;padding-left: 0.2em;position: relative;}#sk-container-id-1 div.sk-item {position: relative;z-index: 1;}#sk-container-id-1 div.sk-parallel {display: flex;align-items: stretch;justify-content: center;background-color: white;position: relative;}#sk-container-id-1 div.sk-item::before, #sk-container-id-1 div.sk-parallel-item::before {content: \"\";position: absolute;border-left: 1px solid gray;box-sizing: border-box;top: 0;bottom: 0;left: 50%;z-index: -1;}#sk-container-id-1 div.sk-parallel-item {display: flex;flex-direction: column;z-index: 1;position: relative;background-color: white;}#sk-container-id-1 div.sk-parallel-item:first-child::after {align-self: flex-end;width: 50%;}#sk-container-id-1 div.sk-parallel-item:last-child::after {align-self: flex-start;width: 50%;}#sk-container-id-1 div.sk-parallel-item:only-child::after {width: 0;}#sk-container-id-1 div.sk-dashed-wrapped {border: 1px dashed gray;margin: 0 0.4em 0.5em 0.4em;box-sizing: border-box;padding-bottom: 0.4em;background-color: white;}#sk-container-id-1 div.sk-label label {font-family: monospace;font-weight: bold;display: inline-block;line-height: 1.2em;}#sk-container-id-1 div.sk-label-container {text-align: center;}#sk-container-id-1 div.sk-container {/* jupyter's `normalize.less` sets `[hidden] { display: none; }` but bootstrap.min.css set `[hidden] { display: none !important; }` so we also need the `!important` here to be able to override the default hidden behavior on the sphinx rendered scikit-learn.org. See: https://github.com/scikit-learn/scikit-learn/issues/21755 */display: inline-block !important;position: relative;}#sk-container-id-1 div.sk-text-repr-fallback {display: none;}</style><div id=\"sk-container-id-1\" class=\"sk-top-container\"><div class=\"sk-text-repr-fallback\"><pre>Pipeline(steps=[(&#x27;preprocessor&#x27;,\n",
       "                 ColumnTransformer(remainder=&#x27;passthrough&#x27;,\n",
       "                                   transformers=[(&#x27;cat&#x27;,\n",
       "                                                  Pipeline(steps=[(&#x27;simple_imputer&#x27;,\n",
       "                                                                   SimpleImputer(fill_value=&#x27;missing&#x27;,\n",
       "                                                                                 strategy=&#x27;most_frequent&#x27;)),\n",
       "                                                                  (&#x27;one_hot_encoding&#x27;,\n",
       "                                                                   OneHotEncoder())]),\n",
       "                                                  [&#x27;disrict&#x27;, &#x27;client_catg&#x27;,\n",
       "                                                   &#x27;region&#x27;])])),\n",
       "                (&#x27;model&#x27;,\n",
       "                 XGBClassifier(base_score=None, booster=None, callbacks=None,\n",
       "                               colsample_byle...\n",
       "                               feature_types=None, gamma=None, grow_policy=None,\n",
       "                               importance_type=None,\n",
       "                               interaction_constraints=None, learning_rate=0.05,\n",
       "                               max_bin=None, max_cat_threshold=None,\n",
       "                               max_cat_to_onehot=None, max_delta_step=None,\n",
       "                               max_depth=5, max_leaves=None,\n",
       "                               min_child_weight=None, missing=nan,\n",
       "                               monotone_constraints=None, multi_strategy=None,\n",
       "                               n_estimators=500, n_jobs=None,\n",
       "                               num_parallel_tree=None, random_state=42, ...))])</pre><b>In a Jupyter environment, please rerun this cell to show the HTML representation or trust the notebook. <br />On GitHub, the HTML representation is unable to render, please try loading this page with nbviewer.org.</b></div><div class=\"sk-container\" hidden><div class=\"sk-item sk-dashed-wrapped\"><div class=\"sk-label-container\"><div class=\"sk-label sk-toggleable\"><input class=\"sk-toggleable__control sk-hidden--visually\" id=\"sk-estimator-id-1\" type=\"checkbox\" ><label for=\"sk-estimator-id-1\" class=\"sk-toggleable__label sk-toggleable__label-arrow\">Pipeline</label><div class=\"sk-toggleable__content\"><pre>Pipeline(steps=[(&#x27;preprocessor&#x27;,\n",
       "                 ColumnTransformer(remainder=&#x27;passthrough&#x27;,\n",
       "                                   transformers=[(&#x27;cat&#x27;,\n",
       "                                                  Pipeline(steps=[(&#x27;simple_imputer&#x27;,\n",
       "                                                                   SimpleImputer(fill_value=&#x27;missing&#x27;,\n",
       "                                                                                 strategy=&#x27;most_frequent&#x27;)),\n",
       "                                                                  (&#x27;one_hot_encoding&#x27;,\n",
       "                                                                   OneHotEncoder())]),\n",
       "                                                  [&#x27;disrict&#x27;, &#x27;client_catg&#x27;,\n",
       "                                                   &#x27;region&#x27;])])),\n",
       "                (&#x27;model&#x27;,\n",
       "                 XGBClassifier(base_score=None, booster=None, callbacks=None,\n",
       "                               colsample_byle...\n",
       "                               feature_types=None, gamma=None, grow_policy=None,\n",
       "                               importance_type=None,\n",
       "                               interaction_constraints=None, learning_rate=0.05,\n",
       "                               max_bin=None, max_cat_threshold=None,\n",
       "                               max_cat_to_onehot=None, max_delta_step=None,\n",
       "                               max_depth=5, max_leaves=None,\n",
       "                               min_child_weight=None, missing=nan,\n",
       "                               monotone_constraints=None, multi_strategy=None,\n",
       "                               n_estimators=500, n_jobs=None,\n",
       "                               num_parallel_tree=None, random_state=42, ...))])</pre></div></div></div><div class=\"sk-serial\"><div class=\"sk-item sk-dashed-wrapped\"><div class=\"sk-label-container\"><div class=\"sk-label sk-toggleable\"><input class=\"sk-toggleable__control sk-hidden--visually\" id=\"sk-estimator-id-2\" type=\"checkbox\" ><label for=\"sk-estimator-id-2\" class=\"sk-toggleable__label sk-toggleable__label-arrow\">preprocessor: ColumnTransformer</label><div class=\"sk-toggleable__content\"><pre>ColumnTransformer(remainder=&#x27;passthrough&#x27;,\n",
       "                  transformers=[(&#x27;cat&#x27;,\n",
       "                                 Pipeline(steps=[(&#x27;simple_imputer&#x27;,\n",
       "                                                  SimpleImputer(fill_value=&#x27;missing&#x27;,\n",
       "                                                                strategy=&#x27;most_frequent&#x27;)),\n",
       "                                                 (&#x27;one_hot_encoding&#x27;,\n",
       "                                                  OneHotEncoder())]),\n",
       "                                 [&#x27;disrict&#x27;, &#x27;client_catg&#x27;, &#x27;region&#x27;])])</pre></div></div></div><div class=\"sk-parallel\"><div class=\"sk-parallel-item\"><div class=\"sk-item\"><div class=\"sk-label-container\"><div class=\"sk-label sk-toggleable\"><input class=\"sk-toggleable__control sk-hidden--visually\" id=\"sk-estimator-id-3\" type=\"checkbox\" ><label for=\"sk-estimator-id-3\" class=\"sk-toggleable__label sk-toggleable__label-arrow\">cat</label><div class=\"sk-toggleable__content\"><pre>[&#x27;disrict&#x27;, &#x27;client_catg&#x27;, &#x27;region&#x27;]</pre></div></div></div><div class=\"sk-serial\"><div class=\"sk-item\"><div class=\"sk-serial\"><div class=\"sk-item\"><div class=\"sk-estimator sk-toggleable\"><input class=\"sk-toggleable__control sk-hidden--visually\" id=\"sk-estimator-id-4\" type=\"checkbox\" ><label for=\"sk-estimator-id-4\" class=\"sk-toggleable__label sk-toggleable__label-arrow\">SimpleImputer</label><div class=\"sk-toggleable__content\"><pre>SimpleImputer(fill_value=&#x27;missing&#x27;, strategy=&#x27;most_frequent&#x27;)</pre></div></div></div><div class=\"sk-item\"><div class=\"sk-estimator sk-toggleable\"><input class=\"sk-toggleable__control sk-hidden--visually\" id=\"sk-estimator-id-5\" type=\"checkbox\" ><label for=\"sk-estimator-id-5\" class=\"sk-toggleable__label sk-toggleable__label-arrow\">OneHotEncoder</label><div class=\"sk-toggleable__content\"><pre>OneHotEncoder()</pre></div></div></div></div></div></div></div></div><div class=\"sk-parallel-item\"><div class=\"sk-item\"><div class=\"sk-label-container\"><div class=\"sk-label sk-toggleable\"><input class=\"sk-toggleable__control sk-hidden--visually\" id=\"sk-estimator-id-6\" type=\"checkbox\" ><label for=\"sk-estimator-id-6\" class=\"sk-toggleable__label sk-toggleable__label-arrow\">remainder</label><div class=\"sk-toggleable__content\"><pre></pre></div></div></div><div class=\"sk-serial\"><div class=\"sk-item\"><div class=\"sk-estimator sk-toggleable\"><input class=\"sk-toggleable__control sk-hidden--visually\" id=\"sk-estimator-id-7\" type=\"checkbox\" ><label for=\"sk-estimator-id-7\" class=\"sk-toggleable__label sk-toggleable__label-arrow\">passthrough</label><div class=\"sk-toggleable__content\"><pre>passthrough</pre></div></div></div></div></div></div></div></div><div class=\"sk-item\"><div class=\"sk-estimator sk-toggleable\"><input class=\"sk-toggleable__control sk-hidden--visually\" id=\"sk-estimator-id-8\" type=\"checkbox\" ><label for=\"sk-estimator-id-8\" class=\"sk-toggleable__label sk-toggleable__label-arrow\">XGBClassifier</label><div class=\"sk-toggleable__content\"><pre>XGBClassifier(base_score=None, booster=None, callbacks=None,\n",
       "              colsample_bylevel=None, colsample_bynode=None,\n",
       "              colsample_bytree=0.8, device=None, early_stopping_rounds=None,\n",
       "              enable_categorical=False, eval_metric=&#x27;aucpr&#x27;, feature_types=None,\n",
       "              gamma=None, grow_policy=None, importance_type=None,\n",
       "              interaction_constraints=None, learning_rate=0.05, max_bin=None,\n",
       "              max_cat_threshold=None, max_cat_to_onehot=None,\n",
       "              max_delta_step=None, max_depth=5, max_leaves=None,\n",
       "              min_child_weight=None, missing=nan, monotone_constraints=None,\n",
       "              multi_strategy=None, n_estimators=500, n_jobs=None,\n",
       "              num_parallel_tree=None, random_state=42, ...)</pre></div></div></div></div></div></div></div>"
      ],
      "text/plain": [
       "Pipeline(steps=[('preprocessor',\n",
       "                 ColumnTransformer(remainder='passthrough',\n",
       "                                   transformers=[('cat',\n",
       "                                                  Pipeline(steps=[('simple_imputer',\n",
       "                                                                   SimpleImputer(fill_value='missing',\n",
       "                                                                                 strategy='most_frequent')),\n",
       "                                                                  ('one_hot_encoding',\n",
       "                                                                   OneHotEncoder())]),\n",
       "                                                  ['disrict', 'client_catg',\n",
       "                                                   'region'])])),\n",
       "                ('model',\n",
       "                 XGBClassifier(base_score=None, booster=None, callbacks=None,\n",
       "                               colsample_byle...\n",
       "                               feature_types=None, gamma=None, grow_policy=None,\n",
       "                               importance_type=None,\n",
       "                               interaction_constraints=None, learning_rate=0.05,\n",
       "                               max_bin=None, max_cat_threshold=None,\n",
       "                               max_cat_to_onehot=None, max_delta_step=None,\n",
       "                               max_depth=5, max_leaves=None,\n",
       "                               min_child_weight=None, missing=nan,\n",
       "                               monotone_constraints=None, multi_strategy=None,\n",
       "                               n_estimators=500, n_jobs=None,\n",
       "                               num_parallel_tree=None, random_state=42, ...))])"
      ]
     },
     "execution_count": 16,
     "metadata": {},
     "output_type": "execute_result"
    }
   ],
   "source": [
    "model_pipeline"
   ]
  },
  {
   "cell_type": "code",
   "execution_count": 17,
   "metadata": {},
   "outputs": [
    {
     "data": {
      "text/html": [
       "<style>#sk-container-id-2 {color: black;background-color: white;}#sk-container-id-2 pre{padding: 0;}#sk-container-id-2 div.sk-toggleable {background-color: white;}#sk-container-id-2 label.sk-toggleable__label {cursor: pointer;display: block;width: 100%;margin-bottom: 0;padding: 0.3em;box-sizing: border-box;text-align: center;}#sk-container-id-2 label.sk-toggleable__label-arrow:before {content: \"▸\";float: left;margin-right: 0.25em;color: #696969;}#sk-container-id-2 label.sk-toggleable__label-arrow:hover:before {color: black;}#sk-container-id-2 div.sk-estimator:hover label.sk-toggleable__label-arrow:before {color: black;}#sk-container-id-2 div.sk-toggleable__content {max-height: 0;max-width: 0;overflow: hidden;text-align: left;background-color: #f0f8ff;}#sk-container-id-2 div.sk-toggleable__content pre {margin: 0.2em;color: black;border-radius: 0.25em;background-color: #f0f8ff;}#sk-container-id-2 input.sk-toggleable__control:checked~div.sk-toggleable__content {max-height: 200px;max-width: 100%;overflow: auto;}#sk-container-id-2 input.sk-toggleable__control:checked~label.sk-toggleable__label-arrow:before {content: \"▾\";}#sk-container-id-2 div.sk-estimator input.sk-toggleable__control:checked~label.sk-toggleable__label {background-color: #d4ebff;}#sk-container-id-2 div.sk-label input.sk-toggleable__control:checked~label.sk-toggleable__label {background-color: #d4ebff;}#sk-container-id-2 input.sk-hidden--visually {border: 0;clip: rect(1px 1px 1px 1px);clip: rect(1px, 1px, 1px, 1px);height: 1px;margin: -1px;overflow: hidden;padding: 0;position: absolute;width: 1px;}#sk-container-id-2 div.sk-estimator {font-family: monospace;background-color: #f0f8ff;border: 1px dotted black;border-radius: 0.25em;box-sizing: border-box;margin-bottom: 0.5em;}#sk-container-id-2 div.sk-estimator:hover {background-color: #d4ebff;}#sk-container-id-2 div.sk-parallel-item::after {content: \"\";width: 100%;border-bottom: 1px solid gray;flex-grow: 1;}#sk-container-id-2 div.sk-label:hover label.sk-toggleable__label {background-color: #d4ebff;}#sk-container-id-2 div.sk-serial::before {content: \"\";position: absolute;border-left: 1px solid gray;box-sizing: border-box;top: 0;bottom: 0;left: 50%;z-index: 0;}#sk-container-id-2 div.sk-serial {display: flex;flex-direction: column;align-items: center;background-color: white;padding-right: 0.2em;padding-left: 0.2em;position: relative;}#sk-container-id-2 div.sk-item {position: relative;z-index: 1;}#sk-container-id-2 div.sk-parallel {display: flex;align-items: stretch;justify-content: center;background-color: white;position: relative;}#sk-container-id-2 div.sk-item::before, #sk-container-id-2 div.sk-parallel-item::before {content: \"\";position: absolute;border-left: 1px solid gray;box-sizing: border-box;top: 0;bottom: 0;left: 50%;z-index: -1;}#sk-container-id-2 div.sk-parallel-item {display: flex;flex-direction: column;z-index: 1;position: relative;background-color: white;}#sk-container-id-2 div.sk-parallel-item:first-child::after {align-self: flex-end;width: 50%;}#sk-container-id-2 div.sk-parallel-item:last-child::after {align-self: flex-start;width: 50%;}#sk-container-id-2 div.sk-parallel-item:only-child::after {width: 0;}#sk-container-id-2 div.sk-dashed-wrapped {border: 1px dashed gray;margin: 0 0.4em 0.5em 0.4em;box-sizing: border-box;padding-bottom: 0.4em;background-color: white;}#sk-container-id-2 div.sk-label label {font-family: monospace;font-weight: bold;display: inline-block;line-height: 1.2em;}#sk-container-id-2 div.sk-label-container {text-align: center;}#sk-container-id-2 div.sk-container {/* jupyter's `normalize.less` sets `[hidden] { display: none; }` but bootstrap.min.css set `[hidden] { display: none !important; }` so we also need the `!important` here to be able to override the default hidden behavior on the sphinx rendered scikit-learn.org. See: https://github.com/scikit-learn/scikit-learn/issues/21755 */display: inline-block !important;position: relative;}#sk-container-id-2 div.sk-text-repr-fallback {display: none;}</style><div id=\"sk-container-id-2\" class=\"sk-top-container\"><div class=\"sk-text-repr-fallback\"><pre>Pipeline(steps=[(&#x27;preprocessor&#x27;,\n",
       "                 ColumnTransformer(remainder=&#x27;passthrough&#x27;,\n",
       "                                   transformers=[(&#x27;cat&#x27;,\n",
       "                                                  Pipeline(steps=[(&#x27;simple_imputer&#x27;,\n",
       "                                                                   SimpleImputer(fill_value=&#x27;missing&#x27;,\n",
       "                                                                                 strategy=&#x27;most_frequent&#x27;)),\n",
       "                                                                  (&#x27;one_hot_encoding&#x27;,\n",
       "                                                                   OneHotEncoder())]),\n",
       "                                                  [&#x27;disrict&#x27;, &#x27;client_catg&#x27;,\n",
       "                                                   &#x27;region&#x27;])])),\n",
       "                (&#x27;model&#x27;,\n",
       "                 XGBClassifier(base_score=None, booster=None, callbacks=None,\n",
       "                               colsample_byle...\n",
       "                               feature_types=None, gamma=None, grow_policy=None,\n",
       "                               importance_type=None,\n",
       "                               interaction_constraints=None, learning_rate=0.05,\n",
       "                               max_bin=None, max_cat_threshold=None,\n",
       "                               max_cat_to_onehot=None, max_delta_step=None,\n",
       "                               max_depth=5, max_leaves=None,\n",
       "                               min_child_weight=None, missing=nan,\n",
       "                               monotone_constraints=None, multi_strategy=None,\n",
       "                               n_estimators=500, n_jobs=None,\n",
       "                               num_parallel_tree=None, random_state=42, ...))])</pre><b>In a Jupyter environment, please rerun this cell to show the HTML representation or trust the notebook. <br />On GitHub, the HTML representation is unable to render, please try loading this page with nbviewer.org.</b></div><div class=\"sk-container\" hidden><div class=\"sk-item sk-dashed-wrapped\"><div class=\"sk-label-container\"><div class=\"sk-label sk-toggleable\"><input class=\"sk-toggleable__control sk-hidden--visually\" id=\"sk-estimator-id-9\" type=\"checkbox\" ><label for=\"sk-estimator-id-9\" class=\"sk-toggleable__label sk-toggleable__label-arrow\">Pipeline</label><div class=\"sk-toggleable__content\"><pre>Pipeline(steps=[(&#x27;preprocessor&#x27;,\n",
       "                 ColumnTransformer(remainder=&#x27;passthrough&#x27;,\n",
       "                                   transformers=[(&#x27;cat&#x27;,\n",
       "                                                  Pipeline(steps=[(&#x27;simple_imputer&#x27;,\n",
       "                                                                   SimpleImputer(fill_value=&#x27;missing&#x27;,\n",
       "                                                                                 strategy=&#x27;most_frequent&#x27;)),\n",
       "                                                                  (&#x27;one_hot_encoding&#x27;,\n",
       "                                                                   OneHotEncoder())]),\n",
       "                                                  [&#x27;disrict&#x27;, &#x27;client_catg&#x27;,\n",
       "                                                   &#x27;region&#x27;])])),\n",
       "                (&#x27;model&#x27;,\n",
       "                 XGBClassifier(base_score=None, booster=None, callbacks=None,\n",
       "                               colsample_byle...\n",
       "                               feature_types=None, gamma=None, grow_policy=None,\n",
       "                               importance_type=None,\n",
       "                               interaction_constraints=None, learning_rate=0.05,\n",
       "                               max_bin=None, max_cat_threshold=None,\n",
       "                               max_cat_to_onehot=None, max_delta_step=None,\n",
       "                               max_depth=5, max_leaves=None,\n",
       "                               min_child_weight=None, missing=nan,\n",
       "                               monotone_constraints=None, multi_strategy=None,\n",
       "                               n_estimators=500, n_jobs=None,\n",
       "                               num_parallel_tree=None, random_state=42, ...))])</pre></div></div></div><div class=\"sk-serial\"><div class=\"sk-item sk-dashed-wrapped\"><div class=\"sk-label-container\"><div class=\"sk-label sk-toggleable\"><input class=\"sk-toggleable__control sk-hidden--visually\" id=\"sk-estimator-id-10\" type=\"checkbox\" ><label for=\"sk-estimator-id-10\" class=\"sk-toggleable__label sk-toggleable__label-arrow\">preprocessor: ColumnTransformer</label><div class=\"sk-toggleable__content\"><pre>ColumnTransformer(remainder=&#x27;passthrough&#x27;,\n",
       "                  transformers=[(&#x27;cat&#x27;,\n",
       "                                 Pipeline(steps=[(&#x27;simple_imputer&#x27;,\n",
       "                                                  SimpleImputer(fill_value=&#x27;missing&#x27;,\n",
       "                                                                strategy=&#x27;most_frequent&#x27;)),\n",
       "                                                 (&#x27;one_hot_encoding&#x27;,\n",
       "                                                  OneHotEncoder())]),\n",
       "                                 [&#x27;disrict&#x27;, &#x27;client_catg&#x27;, &#x27;region&#x27;])])</pre></div></div></div><div class=\"sk-parallel\"><div class=\"sk-parallel-item\"><div class=\"sk-item\"><div class=\"sk-label-container\"><div class=\"sk-label sk-toggleable\"><input class=\"sk-toggleable__control sk-hidden--visually\" id=\"sk-estimator-id-11\" type=\"checkbox\" ><label for=\"sk-estimator-id-11\" class=\"sk-toggleable__label sk-toggleable__label-arrow\">cat</label><div class=\"sk-toggleable__content\"><pre>[&#x27;disrict&#x27;, &#x27;client_catg&#x27;, &#x27;region&#x27;]</pre></div></div></div><div class=\"sk-serial\"><div class=\"sk-item\"><div class=\"sk-serial\"><div class=\"sk-item\"><div class=\"sk-estimator sk-toggleable\"><input class=\"sk-toggleable__control sk-hidden--visually\" id=\"sk-estimator-id-12\" type=\"checkbox\" ><label for=\"sk-estimator-id-12\" class=\"sk-toggleable__label sk-toggleable__label-arrow\">SimpleImputer</label><div class=\"sk-toggleable__content\"><pre>SimpleImputer(fill_value=&#x27;missing&#x27;, strategy=&#x27;most_frequent&#x27;)</pre></div></div></div><div class=\"sk-item\"><div class=\"sk-estimator sk-toggleable\"><input class=\"sk-toggleable__control sk-hidden--visually\" id=\"sk-estimator-id-13\" type=\"checkbox\" ><label for=\"sk-estimator-id-13\" class=\"sk-toggleable__label sk-toggleable__label-arrow\">OneHotEncoder</label><div class=\"sk-toggleable__content\"><pre>OneHotEncoder()</pre></div></div></div></div></div></div></div></div><div class=\"sk-parallel-item\"><div class=\"sk-item\"><div class=\"sk-label-container\"><div class=\"sk-label sk-toggleable\"><input class=\"sk-toggleable__control sk-hidden--visually\" id=\"sk-estimator-id-14\" type=\"checkbox\" ><label for=\"sk-estimator-id-14\" class=\"sk-toggleable__label sk-toggleable__label-arrow\">remainder</label><div class=\"sk-toggleable__content\"><pre>[&#x27;1transactions_count&#x27;, &#x27;consumption_level_1_mean&#x27;, &#x27;consumption_level_2_mean&#x27;, &#x27;consumption_level_3_mean&#x27;, &#x27;consumption_level_4_mean&#x27;]</pre></div></div></div><div class=\"sk-serial\"><div class=\"sk-item\"><div class=\"sk-estimator sk-toggleable\"><input class=\"sk-toggleable__control sk-hidden--visually\" id=\"sk-estimator-id-15\" type=\"checkbox\" ><label for=\"sk-estimator-id-15\" class=\"sk-toggleable__label sk-toggleable__label-arrow\">passthrough</label><div class=\"sk-toggleable__content\"><pre>passthrough</pre></div></div></div></div></div></div></div></div><div class=\"sk-item\"><div class=\"sk-estimator sk-toggleable\"><input class=\"sk-toggleable__control sk-hidden--visually\" id=\"sk-estimator-id-16\" type=\"checkbox\" ><label for=\"sk-estimator-id-16\" class=\"sk-toggleable__label sk-toggleable__label-arrow\">XGBClassifier</label><div class=\"sk-toggleable__content\"><pre>XGBClassifier(base_score=None, booster=None, callbacks=None,\n",
       "              colsample_bylevel=None, colsample_bynode=None,\n",
       "              colsample_bytree=0.8, device=None, early_stopping_rounds=None,\n",
       "              enable_categorical=False, eval_metric=&#x27;aucpr&#x27;, feature_types=None,\n",
       "              gamma=None, grow_policy=None, importance_type=None,\n",
       "              interaction_constraints=None, learning_rate=0.05, max_bin=None,\n",
       "              max_cat_threshold=None, max_cat_to_onehot=None,\n",
       "              max_delta_step=None, max_depth=5, max_leaves=None,\n",
       "              min_child_weight=None, missing=nan, monotone_constraints=None,\n",
       "              multi_strategy=None, n_estimators=500, n_jobs=None,\n",
       "              num_parallel_tree=None, random_state=42, ...)</pre></div></div></div></div></div></div></div>"
      ],
      "text/plain": [
       "Pipeline(steps=[('preprocessor',\n",
       "                 ColumnTransformer(remainder='passthrough',\n",
       "                                   transformers=[('cat',\n",
       "                                                  Pipeline(steps=[('simple_imputer',\n",
       "                                                                   SimpleImputer(fill_value='missing',\n",
       "                                                                                 strategy='most_frequent')),\n",
       "                                                                  ('one_hot_encoding',\n",
       "                                                                   OneHotEncoder())]),\n",
       "                                                  ['disrict', 'client_catg',\n",
       "                                                   'region'])])),\n",
       "                ('model',\n",
       "                 XGBClassifier(base_score=None, booster=None, callbacks=None,\n",
       "                               colsample_byle...\n",
       "                               feature_types=None, gamma=None, grow_policy=None,\n",
       "                               importance_type=None,\n",
       "                               interaction_constraints=None, learning_rate=0.05,\n",
       "                               max_bin=None, max_cat_threshold=None,\n",
       "                               max_cat_to_onehot=None, max_delta_step=None,\n",
       "                               max_depth=5, max_leaves=None,\n",
       "                               min_child_weight=None, missing=nan,\n",
       "                               monotone_constraints=None, multi_strategy=None,\n",
       "                               n_estimators=500, n_jobs=None,\n",
       "                               num_parallel_tree=None, random_state=42, ...))])"
      ]
     },
     "execution_count": 17,
     "metadata": {},
     "output_type": "execute_result"
    }
   ],
   "source": [
    "# Train the model\n",
    "model_pipeline.fit(X_train, y_train)"
   ]
  },
  {
   "cell_type": "code",
   "execution_count": 18,
   "metadata": {},
   "outputs": [
    {
     "data": {
      "application/vnd.microsoft.datawrangler.viewer.v0+json": {
       "columns": [
        {
         "name": "index",
         "rawType": "int64",
         "type": "integer"
        },
        {
         "name": "disrict",
         "rawType": "int64",
         "type": "integer"
        },
        {
         "name": "client_catg",
         "rawType": "int64",
         "type": "integer"
        },
        {
         "name": "region",
         "rawType": "int64",
         "type": "integer"
        },
        {
         "name": "1transactions_count",
         "rawType": "int64",
         "type": "integer"
        },
        {
         "name": "consumption_level_1_mean",
         "rawType": "float64",
         "type": "float"
        },
        {
         "name": "consumption_level_2_mean",
         "rawType": "float64",
         "type": "float"
        },
        {
         "name": "consumption_level_3_mean",
         "rawType": "float64",
         "type": "float"
        },
        {
         "name": "consumption_level_4_mean",
         "rawType": "float64",
         "type": "float"
        }
       ],
       "conversionMethod": "pd.DataFrame",
       "ref": "e738f253-5eb6-4304-8b22-cbcf62219a1d",
       "rows": [
        [
         "52667",
         "63",
         "11",
         "311",
         "73",
         "240.65753424657532",
         "17.78082191780822",
         "2.808219178082192",
         "0.0"
        ],
        [
         "44198",
         "63",
         "11",
         "311",
         "33",
         "46.93939393939394",
         "2.515151515151515",
         "0.0",
         "0.0"
        ],
        [
         "33454",
         "63",
         "11",
         "311",
         "58",
         "215.27586206896552",
         "27.58620689655172",
         "22.879310344827587",
         "91.08620689655172"
        ],
        [
         "47946",
         "60",
         "11",
         "101",
         "33",
         "346.3636363636364",
         "0.0606060606060606",
         "0.0",
         "0.0"
        ],
        [
         "113031",
         "63",
         "11",
         "306",
         "6",
         "323.0",
         "0.0",
         "0.0",
         "0.0"
        ],
        [
         "111080",
         "62",
         "11",
         "305",
         "2",
         "214.5",
         "0.0",
         "0.0",
         "0.0"
        ],
        [
         "55338",
         "60",
         "11",
         "101",
         "8",
         "537.75",
         "0.0",
         "0.0",
         "0.0"
        ],
        [
         "10054",
         "62",
         "11",
         "301",
         "32",
         "274.5625",
         "0.0",
         "0.0",
         "0.0"
        ],
        [
         "68720",
         "69",
         "11",
         "103",
         "36",
         "423.5833333333333",
         "34.333333333333336",
         "11.805555555555555",
         "0.0"
        ],
        [
         "44148",
         "69",
         "12",
         "104",
         "2",
         "251.0",
         "0.0",
         "0.0",
         "0.0"
        ],
        [
         "129137",
         "69",
         "11",
         "107",
         "1",
         "879.0",
         "0.0",
         "0.0",
         "0.0"
        ],
        [
         "15347",
         "63",
         "11",
         "306",
         "66",
         "313.6363636363636",
         "3.242424242424242",
         "0.0",
         "0.0"
        ],
        [
         "90970",
         "63",
         "11",
         "311",
         "68",
         "297.77941176470586",
         "8.058823529411764",
         "6.25",
         "0.0294117647058823"
        ],
        [
         "90612",
         "60",
         "11",
         "101",
         "12",
         "282.6666666666667",
         "0.0",
         "0.0",
         "0.0"
        ],
        [
         "80182",
         "60",
         "11",
         "101",
         "6",
         "198.16666666666663",
         "0.0",
         "0.0",
         "0.0"
        ],
        [
         "20111",
         "63",
         "11",
         "311",
         "21",
         "692.9047619047619",
         "97.8095238095238",
         "35.095238095238095",
         "21.142857142857142"
        ],
        [
         "64869",
         "60",
         "11",
         "101",
         "43",
         "339.16279069767444",
         "13.209302325581396",
         "0.0",
         "0.0"
        ],
        [
         "58078",
         "62",
         "11",
         "301",
         "22",
         "641.0454545454545",
         "42.0",
         "0.0",
         "0.0"
        ],
        [
         "130755",
         "69",
         "11",
         "104",
         "32",
         "618.65625",
         "19.65625",
         "0.0",
         "0.0"
        ],
        [
         "67030",
         "69",
         "11",
         "103",
         "64",
         "284.75",
         "0.0",
         "0.0",
         "0.0"
        ],
        [
         "51917",
         "60",
         "11",
         "101",
         "63",
         "152.68253968253967",
         "107.34920634920636",
         "0.0",
         "0.0"
        ],
        [
         "52581",
         "62",
         "11",
         "310",
         "39",
         "363.79487179487177",
         "5.743589743589744",
         "0.0",
         "0.0"
        ],
        [
         "34093",
         "69",
         "11",
         "103",
         "23",
         "618.0434782608696",
         "154.52173913043478",
         "263.0869565217391",
         "540.695652173913"
        ],
        [
         "55821",
         "63",
         "11",
         "311",
         "2",
         "676.0",
         "0.0",
         "0.0",
         "0.0"
        ],
        [
         "70151",
         "62",
         "11",
         "371",
         "40",
         "200.375",
         "9.275",
         "0.0",
         "0.0"
        ],
        [
         "18937",
         "62",
         "11",
         "302",
         "9",
         "231.44444444444449",
         "0.0",
         "0.0",
         "0.0"
        ],
        [
         "1602",
         "63",
         "11",
         "313",
         "53",
         "317.60377358490564",
         "6.056603773584905",
         "0.0",
         "0.0"
        ],
        [
         "61583",
         "63",
         "11",
         "306",
         "63",
         "444.5238095238095",
         "0.0",
         "0.0",
         "0.0"
        ],
        [
         "56140",
         "63",
         "11",
         "311",
         "12",
         "310.4166666666667",
         "0.0",
         "0.0",
         "0.0"
        ],
        [
         "130278",
         "69",
         "11",
         "103",
         "2",
         "755.5",
         "0.0",
         "0.0",
         "0.0"
        ],
        [
         "78001",
         "69",
         "11",
         "107",
         "28",
         "101.64285714285714",
         "0.0",
         "0.0",
         "0.0"
        ],
        [
         "100170",
         "69",
         "11",
         "103",
         "15",
         "219.0",
         "81.93333333333334",
         "0.0",
         "0.0"
        ],
        [
         "94537",
         "60",
         "11",
         "101",
         "56",
         "119.125",
         "20.732142857142858",
         "0.0",
         "0.0"
        ],
        [
         "124027",
         "63",
         "11",
         "312",
         "9",
         "272.55555555555554",
         "1.7777777777777777",
         "0.0",
         "0.0"
        ],
        [
         "34273",
         "60",
         "11",
         "101",
         "25",
         "105.0",
         "0.0",
         "0.0",
         "0.0"
        ],
        [
         "111894",
         "69",
         "11",
         "104",
         "17",
         "222.2941176470588",
         "35.294117647058826",
         "70.58823529411765",
         "939.0588235294116"
        ],
        [
         "48804",
         "63",
         "11",
         "306",
         "2",
         "190.0",
         "0.0",
         "0.0",
         "0.0"
        ],
        [
         "61459",
         "63",
         "11",
         "311",
         "5",
         "103.0",
         "0.0",
         "0.0",
         "0.0"
        ],
        [
         "82417",
         "60",
         "11",
         "101",
         "27",
         "222.7037037037037",
         "57.629629629629626",
         "0.0",
         "0.0"
        ],
        [
         "21527",
         "62",
         "11",
         "310",
         "36",
         "764.0555555555555",
         "9.694444444444445",
         "0.0",
         "0.0"
        ],
        [
         "120142",
         "60",
         "11",
         "101",
         "40",
         "378.125",
         "0.0",
         "0.0",
         "0.0"
        ],
        [
         "52688",
         "60",
         "11",
         "101",
         "38",
         "706.1315789473684",
         "125.60526315789474",
         "61.05263157894737",
         "0.0"
        ],
        [
         "47714",
         "60",
         "11",
         "101",
         "13",
         "5.461538461538462",
         "0.0",
         "0.0",
         "0.0"
        ],
        [
         "101916",
         "62",
         "11",
         "302",
         "11",
         "302.45454545454544",
         "22.09090909090909",
         "0.0",
         "0.0"
        ],
        [
         "119472",
         "60",
         "11",
         "101",
         "71",
         "467.63380281690144",
         "82.02816901408451",
         "58.816901408450704",
         "71.04225352112677"
        ],
        [
         "35192",
         "63",
         "11",
         "372",
         "30",
         "454.1333333333333",
         "0.0",
         "0.0",
         "0.0"
        ],
        [
         "113825",
         "60",
         "11",
         "101",
         "3",
         "806.0",
         "0.0",
         "0.0",
         "0.0"
        ],
        [
         "107614",
         "60",
         "11",
         "101",
         "5",
         "0.2",
         "0.0",
         "0.0",
         "0.0"
        ],
        [
         "51842",
         "60",
         "11",
         "101",
         "37",
         "606.2162162162163",
         "0.0",
         "0.0",
         "0.0"
        ],
        [
         "109560",
         "60",
         "11",
         "101",
         "78",
         "271.15384615384613",
         "5.717948717948718",
         "0.0",
         "0.0"
        ]
       ],
       "shape": {
        "columns": 8,
        "rows": 94845
       }
      },
      "text/html": [
       "<div>\n",
       "<style scoped>\n",
       "    .dataframe tbody tr th:only-of-type {\n",
       "        vertical-align: middle;\n",
       "    }\n",
       "\n",
       "    .dataframe tbody tr th {\n",
       "        vertical-align: top;\n",
       "    }\n",
       "\n",
       "    .dataframe thead th {\n",
       "        text-align: right;\n",
       "    }\n",
       "</style>\n",
       "<table border=\"1\" class=\"dataframe\">\n",
       "  <thead>\n",
       "    <tr style=\"text-align: right;\">\n",
       "      <th></th>\n",
       "      <th>disrict</th>\n",
       "      <th>client_catg</th>\n",
       "      <th>region</th>\n",
       "      <th>1transactions_count</th>\n",
       "      <th>consumption_level_1_mean</th>\n",
       "      <th>consumption_level_2_mean</th>\n",
       "      <th>consumption_level_3_mean</th>\n",
       "      <th>consumption_level_4_mean</th>\n",
       "    </tr>\n",
       "  </thead>\n",
       "  <tbody>\n",
       "    <tr>\n",
       "      <th>52667</th>\n",
       "      <td>63</td>\n",
       "      <td>11</td>\n",
       "      <td>311</td>\n",
       "      <td>73</td>\n",
       "      <td>240.657534</td>\n",
       "      <td>17.780822</td>\n",
       "      <td>2.808219</td>\n",
       "      <td>0.000000</td>\n",
       "    </tr>\n",
       "    <tr>\n",
       "      <th>44198</th>\n",
       "      <td>63</td>\n",
       "      <td>11</td>\n",
       "      <td>311</td>\n",
       "      <td>33</td>\n",
       "      <td>46.939394</td>\n",
       "      <td>2.515152</td>\n",
       "      <td>0.000000</td>\n",
       "      <td>0.000000</td>\n",
       "    </tr>\n",
       "    <tr>\n",
       "      <th>33454</th>\n",
       "      <td>63</td>\n",
       "      <td>11</td>\n",
       "      <td>311</td>\n",
       "      <td>58</td>\n",
       "      <td>215.275862</td>\n",
       "      <td>27.586207</td>\n",
       "      <td>22.879310</td>\n",
       "      <td>91.086207</td>\n",
       "    </tr>\n",
       "    <tr>\n",
       "      <th>47946</th>\n",
       "      <td>60</td>\n",
       "      <td>11</td>\n",
       "      <td>101</td>\n",
       "      <td>33</td>\n",
       "      <td>346.363636</td>\n",
       "      <td>0.060606</td>\n",
       "      <td>0.000000</td>\n",
       "      <td>0.000000</td>\n",
       "    </tr>\n",
       "    <tr>\n",
       "      <th>113031</th>\n",
       "      <td>63</td>\n",
       "      <td>11</td>\n",
       "      <td>306</td>\n",
       "      <td>6</td>\n",
       "      <td>323.000000</td>\n",
       "      <td>0.000000</td>\n",
       "      <td>0.000000</td>\n",
       "      <td>0.000000</td>\n",
       "    </tr>\n",
       "    <tr>\n",
       "      <th>...</th>\n",
       "      <td>...</td>\n",
       "      <td>...</td>\n",
       "      <td>...</td>\n",
       "      <td>...</td>\n",
       "      <td>...</td>\n",
       "      <td>...</td>\n",
       "      <td>...</td>\n",
       "      <td>...</td>\n",
       "    </tr>\n",
       "    <tr>\n",
       "      <th>110268</th>\n",
       "      <td>63</td>\n",
       "      <td>11</td>\n",
       "      <td>313</td>\n",
       "      <td>37</td>\n",
       "      <td>505.837838</td>\n",
       "      <td>16.216216</td>\n",
       "      <td>19.189189</td>\n",
       "      <td>18.216216</td>\n",
       "    </tr>\n",
       "    <tr>\n",
       "      <th>119879</th>\n",
       "      <td>62</td>\n",
       "      <td>11</td>\n",
       "      <td>301</td>\n",
       "      <td>5</td>\n",
       "      <td>2.400000</td>\n",
       "      <td>0.000000</td>\n",
       "      <td>0.000000</td>\n",
       "      <td>0.000000</td>\n",
       "    </tr>\n",
       "    <tr>\n",
       "      <th>103694</th>\n",
       "      <td>69</td>\n",
       "      <td>11</td>\n",
       "      <td>104</td>\n",
       "      <td>4</td>\n",
       "      <td>642.000000</td>\n",
       "      <td>46.500000</td>\n",
       "      <td>0.000000</td>\n",
       "      <td>0.000000</td>\n",
       "    </tr>\n",
       "    <tr>\n",
       "      <th>131932</th>\n",
       "      <td>63</td>\n",
       "      <td>11</td>\n",
       "      <td>306</td>\n",
       "      <td>22</td>\n",
       "      <td>313.409091</td>\n",
       "      <td>0.000000</td>\n",
       "      <td>0.000000</td>\n",
       "      <td>0.000000</td>\n",
       "    </tr>\n",
       "    <tr>\n",
       "      <th>121958</th>\n",
       "      <td>69</td>\n",
       "      <td>11</td>\n",
       "      <td>107</td>\n",
       "      <td>23</td>\n",
       "      <td>421.739130</td>\n",
       "      <td>40.826087</td>\n",
       "      <td>0.000000</td>\n",
       "      <td>0.000000</td>\n",
       "    </tr>\n",
       "  </tbody>\n",
       "</table>\n",
       "<p>94845 rows × 8 columns</p>\n",
       "</div>"
      ],
      "text/plain": [
       "        disrict  client_catg  region  1transactions_count   \n",
       "52667        63           11     311                   73  \\\n",
       "44198        63           11     311                   33   \n",
       "33454        63           11     311                   58   \n",
       "47946        60           11     101                   33   \n",
       "113031       63           11     306                    6   \n",
       "...         ...          ...     ...                  ...   \n",
       "110268       63           11     313                   37   \n",
       "119879       62           11     301                    5   \n",
       "103694       69           11     104                    4   \n",
       "131932       63           11     306                   22   \n",
       "121958       69           11     107                   23   \n",
       "\n",
       "        consumption_level_1_mean  consumption_level_2_mean   \n",
       "52667                 240.657534                 17.780822  \\\n",
       "44198                  46.939394                  2.515152   \n",
       "33454                 215.275862                 27.586207   \n",
       "47946                 346.363636                  0.060606   \n",
       "113031                323.000000                  0.000000   \n",
       "...                          ...                       ...   \n",
       "110268                505.837838                 16.216216   \n",
       "119879                  2.400000                  0.000000   \n",
       "103694                642.000000                 46.500000   \n",
       "131932                313.409091                  0.000000   \n",
       "121958                421.739130                 40.826087   \n",
       "\n",
       "        consumption_level_3_mean  consumption_level_4_mean  \n",
       "52667                   2.808219                  0.000000  \n",
       "44198                   0.000000                  0.000000  \n",
       "33454                  22.879310                 91.086207  \n",
       "47946                   0.000000                  0.000000  \n",
       "113031                  0.000000                  0.000000  \n",
       "...                          ...                       ...  \n",
       "110268                 19.189189                 18.216216  \n",
       "119879                  0.000000                  0.000000  \n",
       "103694                  0.000000                  0.000000  \n",
       "131932                  0.000000                  0.000000  \n",
       "121958                  0.000000                  0.000000  \n",
       "\n",
       "[94845 rows x 8 columns]"
      ]
     },
     "execution_count": 18,
     "metadata": {},
     "output_type": "execute_result"
    }
   ],
   "source": [
    "ros = RandomOverSampler(random_state=10, sampling_strategy='auto') \n",
    "\n",
    "# pipeline\n",
    "ros_pipeline = imb_pipe(ros, model_pipeline)\n",
    "\n"
   ]
  },
  {
   "cell_type": "code",
   "execution_count": null,
   "metadata": {},
   "outputs": [],
   "source": [
    "ros_pipeline.fit(X_train, y_train)"
   ]
  },
  {
   "cell_type": "code",
   "execution_count": null,
   "metadata": {},
   "outputs": [],
   "source": [
    "ros_pipeline.score(X_test, y_test)"
   ]
  },
  {
   "cell_type": "code",
   "execution_count": null,
   "metadata": {},
   "outputs": [],
   "source": [
    "# Define the hyperparameter search space\n",
    "param_distributions = {\n",
    "    'pipeline__model__n_estimators': np.arange(50, 500, 50),\n",
    "    'pipeline__model__max_depth': np.arange(3, 10),\n",
    "    'pipeline__model__learning_rate': np.logspace(-3, 0, 10),\n",
    "    'pipeline__model__subsample': np.linspace(0.5, 1, 5),\n",
    "    'pipeline__model__scale_pos_weight': [0]\n",
    "}\n",
    "\n",
    "# Define RandomizedSearchCV\n",
    "random_search = RandomizedSearchCV(\n",
    "    ros_pipeline, param_distributions,\n",
    "    n_iter=20,  # Number of random samples\n",
    "    scoring='roc_auc',  # Optimize for F1-score\n",
    "    cv=5,  # 5-fold cross-validation\n",
    "    n_jobs=-1,  # Use all CPUs\n",
    "    random_state=42\n",
    ")\n",
    "\n",
    "# Fit the model\n",
    "random_search.fit(X_train, y_train)"
   ]
  },
  {
   "cell_type": "code",
   "execution_count": null,
   "metadata": {},
   "outputs": [],
   "source": [
    "#extracting the best model\n",
    "best_model = random_search.best_estimator_"
   ]
  },
  {
   "cell_type": "code",
   "execution_count": null,
   "metadata": {},
   "outputs": [],
   "source": [
    "#classification report of best model\n",
    "y_pred = best_model.predict(X_test) \n",
    "print(classification_report(y_test, y_pred))"
   ]
  },
  {
   "cell_type": "code",
   "execution_count": null,
   "metadata": {},
   "outputs": [],
   "source": [
    "#confusion matrix of best model\n",
    "confusion_matrix(y_test, y_pred)"
   ]
  },
  {
   "cell_type": "code",
   "execution_count": null,
   "metadata": {},
   "outputs": [],
   "source": [
    "# Make predictions\n",
    "y_pred = model_pipeline.predict(X_test)\n",
    "\n",
    "# Output predictions\n",
    "print(\"Predictions:\", y_pred)"
   ]
  },
  {
   "cell_type": "code",
   "execution_count": null,
   "metadata": {},
   "outputs": [],
   "source": [
    "# confusion matrix\n",
    "print(confusion_matrix(y_test, y_pred))\n",
    "print(classification_report(y_test, y_pred))"
   ]
  },
  {
   "cell_type": "code",
   "execution_count": null,
   "metadata": {},
   "outputs": [],
   "source": [
    "# # probabilities for fraud\n",
    "fraud_probs_stage1 = model_pipeline.predict_proba(X_test)[:, 1]  \n",
    "\n",
    "# Fraud probabilities for second stage model > 50%\n",
    "# 1st stage: optimize recall, 2nd stage optimize precision\n",
    "suspicious_cases = X_test[fraud_probs_stage1 > 0.30] # only use propabilities larger 30% for2nd stage model\n",
    "\n",
    "# not needed \n",
    "y_suspicious = y_test[fraud_probs_stage1 > 0.30] # snot used"
   ]
  },
  {
   "cell_type": "code",
   "execution_count": 23,
   "metadata": {},
   "outputs": [],
   "source": [
    "# decision tree for second stage\n",
    "dt_model_stage2 = LogisticRegression(C=0.1, \n",
    "    penalty='l1', \n",
    "    solver='liblinear', \n",
    "    class_weight='balanced', \n",
    "    max_iter=500)\n",
    "dt_model_stage2.fit(suspicious_cases, y_suspicious)\n",
    "\n",
    "fraud_probs_stage2 = dt_model_stage2.predict_proba(suspicious_cases)[:, 1]\n",
    "\n",
    "# categorize risk\n",
    "def risk_category(prob):\n",
    "    if prob > 0.7:\n",
    "        return \"High Risk\"\n",
    "    elif prob > 0.4:\n",
    "        return \"Medium Risk\"\n",
    "    else:\n",
    "        return \"Low Risk\"\n",
    "\n",
    "suspicious_cases_output = suspicious_cases.copy()\n",
    "suspicious_cases_output[\"Risk Level\"] = [risk_category(p) for p in fraud_probs_stage2]\n"
   ]
  },
  {
   "cell_type": "code",
   "execution_count": null,
   "metadata": {},
   "outputs": [],
   "source": [
    "high_risk_cases = suspicious_cases_output#[suspicious_cases_output[\"Risk Level\"] == \"High Risk\"]\n",
    "print(high_risk_cases.head())"
   ]
  },
  {
   "cell_type": "code",
   "execution_count": null,
   "metadata": {},
   "outputs": [],
   "source": [
    "# plot high risk for each risk level barplot count\n",
    "high_risk_cases[\"Risk Level\"].value_counts().plot(kind='bar')"
   ]
  },
  {
   "cell_type": "code",
   "execution_count": 43,
   "metadata": {},
   "outputs": [
    {
     "data": {
      "text/plain": [
       "Text(0.5, 1.0, 'Sentinel Risk Assessor$^{TM}$')"
      ]
     },
     "execution_count": 43,
     "metadata": {},
     "output_type": "execute_result"
    },
    {
     "data": {
      "image/png": "[encoded data removed]",
      "text/plain": [
       "<Figure size 1000x1000 with 1 Axes>"
      ]
     },
     "metadata": {},
     "output_type": "display_data"
    }
   ],
   "source": [
    "import matplotlib.cm as cm\n",
    "\n",
    "# Count occurrences of each Risk Level\n",
    "risk_counts = high_risk_cases['Risk Level'].value_counts()\n",
    "\n",
    "# Define a function to filter small percentages\n",
    "def autopct_format(pct):\n",
    "    return f'{pct:.1f}%' if pct >= 3 else ''  # Hide values <5%\n",
    "\n",
    "# Generate distinct, high-contrast colors from Viridis\n",
    "num_categories = len(risk_counts)\n",
    "color_indices = np.linspace(0.1, 0.9, num_categories)  # Evenly spaced values for contrast\n",
    "colors = [cm.viridis(i) for i in color_indices]  # Extract colors\n",
    "\n",
    "# Set larger font size globally\n",
    "plt.rcParams.update({'font.size': 28})\n",
    "\n",
    "# Plot the pie chart\n",
    "plt.figure(figsize=(10, 10))\n",
    "plt.pie(risk_counts, labels=risk_counts.index, autopct=autopct_format, \n",
    "        colors=colors, startangle=140, wedgeprops={'edgecolor': 'black'}, \n",
    "        textprops={'fontsize': 28, 'color': 'deeppink','fontweight': 'bold'})  # Pink text)  # Larger text\n",
    "\n",
    "plt.title(\"Sentinel Risk Assessor$^{TM}$\", fontsize=28, fontweight='bold')  "
   ]
  },
  {
   "cell_type": "code",
   "execution_count": null,
   "metadata": {},
   "outputs": [],
   "source": []
  }
 ],
 "metadata": {
  "kernelspec": {
   "display_name": ".venv",
   "language": "python",
   "name": "python3"
  },
  "language_info": {
   "codemirror_mode": {
    "name": "ipython",
    "version": 3
   },
   "file_extension": ".py",
   "mimetype": "text/x-python",
   "name": "python",
   "nbconvert_exporter": "python",
   "pygments_lexer": "ipython3",
   "version": "3.11.3"
  }
 },
 "nbformat": 4,
 "nbformat_minor": 2
}
