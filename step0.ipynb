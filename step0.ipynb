{
  "cells": [
    {
      "cell_type": "markdown",
      "metadata": {
        "id": "RqLQ-hbyb5jH"
      },
      "source": [
        "# Fraud Detection in Electricity and Gas Consumption Challenge\n",
        "\n",
        "This is a simple starter notebook based on the tutorial prepared by Joy Wawira. Check out the article [here](https://zindi.africa/learn/fraud-detection-in-electricity-and-gas-consumption-challenge-tutorial) for a more detailed description of the steps taken.\n",
        "\n",
        "This notebook covers:\n",
        "- Downloading the data straight from Zindi and onto colab\n",
        "- Loading the data and carrying out simple EDA to understand the data and prepare for modelling \n",
        "- Preprocessing the data and feature engineering \n",
        "- Creating a simple LGBM model and predicting on the test set\n",
        "- Prepare submission file and save as csv\n",
        "- Some tips on how to improve model performance and your score"
      ]
    },
    {
      "cell_type": "markdown",
      "metadata": {
        "id": "e6LfbE6PJbmp"
      },
      "source": [
        "# Pre-Requisites"
      ]
    },
    {
      "cell_type": "code",
      "execution_count": 3,
      "metadata": {
        "id": "IYR_e0SMJnpa"
      },
      "outputs": [],
      "source": [
        "# DATA_DIR = '/data'\n",
        "\n",
        "# TRAIN_DIR = f'{DATA_DIR}/train'\n",
        "# TEST_DIR = f'{DATA_DIR}/test'\n",
        "\n",
        "# OUTPUT_DIR = f'{DATA_DIR}/output'"
      ]
    },
    {
      "cell_type": "markdown",
      "metadata": {
        "id": "3qArEf-4JhbE"
      },
      "source": [
        "## Download and extract files"
      ]
    },
    {
      "cell_type": "code",
      "execution_count": null,
      "metadata": {
        "id": "GblUChAfGsaY"
      },
      "outputs": [
        {
          "ename": "FileNotFoundError",
          "evalue": "[WinError 3] The system cannot find the path specified: '/data/train'",
          "output_type": "error",
          "traceback": [
            "\u001b[31m---------------------------------------------------------------------------\u001b[39m",
            "\u001b[31mFileNotFoundError\u001b[39m                         Traceback (most recent call last)",
            "\u001b[36mCell\u001b[39m\u001b[36m \u001b[39m\u001b[32mIn[4]\u001b[39m\u001b[32m, line 6\u001b[39m\n\u001b[32m      4\u001b[39m \u001b[38;5;28;01mfor\u001b[39;00m pth \u001b[38;5;129;01min\u001b[39;00m [TRAIN_DIR, TEST_DIR, OUTPUT_DIR]:\n\u001b[32m      5\u001b[39m   \u001b[38;5;28;01mif\u001b[39;00m path.exists(pth) == \u001b[38;5;28;01mFalse\u001b[39;00m:\n\u001b[32m----> \u001b[39m\u001b[32m6\u001b[39m     \u001b[43mos\u001b[49m\u001b[43m.\u001b[49m\u001b[43mmkdir\u001b[49m\u001b[43m(\u001b[49m\u001b[43mpth\u001b[49m\u001b[43m)\u001b[49m\n",
            "\u001b[31mFileNotFoundError\u001b[39m: [WinError 3] The system cannot find the path specified: '/data/train'"
          ]
        }
      ],
      "source": [
        "# import os.path\n",
        "# from os import path\n",
        "\n",
        "# for pth in [TRAIN_DIR, TEST_DIR, OUTPUT_DIR]:\n",
        "#   if path.exists(pth) == False:\n",
        "#     os.mkdir(pth)"
      ]
    },
    {
      "cell_type": "code",
      "execution_count": null,
      "metadata": {
        "id": "4GEpOaBQGvlB"
      },
      "outputs": [],
      "source": [
        "# #only run this cell once, at the start\n",
        "# import requests, os\n",
        "\n",
        "# train_zip = \"train.zip\"\n",
        "# test_zip = \"test.zip\"\n",
        "# sample_sub = \"SampleSubmission.csv\""
      ]
    },
    {
      "cell_type": "code",
      "execution_count": null,
      "metadata": {
        "colab": {
          "base_uri": "https://localhost:8080/"
        },
        "id": "fcqJHBiuIVp8",
        "outputId": "538c087d-1c8e-41df-9457-2a2a315b181a"
      },
      "outputs": [
        {
          "name": "stdout",
          "output_type": "stream",
          "text": [
            "Archive:  /content/train/train.zip\n",
            "  inflating: /content/train/client_train.csv  \n",
            "  inflating: /content/train/invoice_train.csv  \n",
            "Archive:  /content/test/test.zip\n",
            "  inflating: /content/test/client_test.csv  \n",
            "  inflating: /content/test/invoice_test.csv  \n"
          ]
        }
      ],
      "source": [
        "# !unzip \"/content/train/train.zip\" -d \"/content/train/\"\n",
        "# !unzip \"/content/test/test.zip\" -d \"/content/test/\""
      ]
    },
    {
      "cell_type": "markdown",
      "metadata": {
        "id": "Jy_tdygDJm-k"
      },
      "source": [
        "# Data Prep"
      ]
    },
    {
      "cell_type": "markdown",
      "metadata": {
        "id": "GKfpS4UVJ4Wj"
      },
      "source": [
        "## Import Libraries"
      ]
    },
    {
      "cell_type": "code",
      "execution_count": 47,
      "metadata": {
        "id": "OJMD_I3EJWP4"
      },
      "outputs": [
        {
          "name": "stdout",
          "output_type": "stream",
          "text": [
            "Requirement already satisfied: lightgbm in c:\\users\\mannt\\desktop\\neuefische\\exercise_repo\\sunsafe\\.venv\\lib\\site-packages (4.6.0)\n",
            "Requirement already satisfied: numpy>=1.17.0 in c:\\users\\mannt\\desktop\\neuefische\\exercise_repo\\sunsafe\\.venv\\lib\\site-packages (from lightgbm) (1.24.3)\n",
            "Requirement already satisfied: scipy in c:\\users\\mannt\\desktop\\neuefische\\exercise_repo\\sunsafe\\.venv\\lib\\site-packages (from lightgbm) (1.15.2)\n"
          ]
        }
      ],
      "source": [
        "!pip install lightgbm \n",
        "# (do that once to add to venv, then keep commented)\n",
        "import pandas as pd\n",
        "import matplotlib.pyplot as plt\n",
        "import lightgbm\n",
        "from lightgbm import LGBMClassifier\n",
        "\n",
        "import warnings\n",
        "warnings.simplefilter('ignore')"
      ]
    },
    {
      "cell_type": "markdown",
      "metadata": {
        "id": "exEGyf6vJ_4T"
      },
      "source": [
        "## Read the Data"
      ]
    },
    {
      "cell_type": "code",
      "execution_count": 9,
      "metadata": {
        "id": "I2oIx7IuKCJm"
      },
      "outputs": [],
      "source": [
        "# client_train = pd.read_csv(f'{TRAIN_DIR}/client_train.csv', low_memory=False)\n",
        "# invoice_train = pd.read_csv(f'{TRAIN_DIR}/invoice_train.csv', low_memory=False)\n",
        "\n",
        "# client_test = pd.read_csv(f'{TEST_DIR}/client_test.csv', low_memory=False)\n",
        "# invoice_test = pd.read_csv(f'{TEST_DIR}/invoice_test.csv', low_memory=False)\n",
        "# sample_submission = pd.read_csv(f'{DATA_DIR}/SampleSubmission.csv', low_memory=False)\n",
        "\n",
        "client_train = pd.read_csv('data/raw/client_train.csv', low_memory=False)\n",
        "invoice_train = pd.read_csv('data/raw/invoice_train.csv', low_memory=False)\n",
        "\n",
        "client_test = pd.read_csv('data/raw/client_test.csv', low_memory=False)\n",
        "invoice_test = pd.read_csv('data/raw/invoice_test.csv', low_memory=False)\n",
        "sample_submission = pd.read_csv('data/raw/SampleSubmission.csv', low_memory=False)"
      ]
    },
    {
      "cell_type": "markdown",
      "metadata": {
        "id": "cDRp9i5ZO9mz"
      },
      "source": [
        "## Data Understanding"
      ]
    },
    {
      "cell_type": "code",
      "execution_count": 11,
      "metadata": {
        "colab": {
          "base_uri": "https://localhost:8080/"
        },
        "id": "h4zQzvLjKZ6E",
        "outputId": "deb14c51-2f5d-40cd-aa35-771477e044e0"
      },
      "outputs": [
        {
          "name": "stdout",
          "output_type": "stream",
          "text": [
            "(135493, 6) (4476749, 16) (58069, 5) (4476749, 16)\n"
          ]
        }
      ],
      "source": [
        "#compare size of the various datasets\n",
        "print(client_train.shape, invoice_train.shape, client_test.shape, invoice_train.shape)"
      ]
    },
    {
      "cell_type": "code",
      "execution_count": 14,
      "metadata": {
        "colab": {
          "base_uri": "https://localhost:8080/",
          "height": 270
        },
        "id": "Tw1On2leQsxU",
        "outputId": "4bbe6376-2007-4ea4-cd6f-e53e4c0bcb33"
      },
      "outputs": [
        {
          "data": {
            "application/vnd.microsoft.datawrangler.viewer.v0+json": {
              "columns": [
                {
                  "name": "index",
                  "rawType": "int64",
                  "type": "integer"
                },
                {
                  "name": "client_id",
                  "rawType": "object",
                  "type": "string"
                },
                {
                  "name": "invoice_date",
                  "rawType": "object",
                  "type": "string"
                },
                {
                  "name": "tarif_type",
                  "rawType": "int64",
                  "type": "integer"
                },
                {
                  "name": "counter_number",
                  "rawType": "int64",
                  "type": "integer"
                },
                {
                  "name": "counter_statue",
                  "rawType": "object",
                  "type": "string"
                },
                {
                  "name": "counter_code",
                  "rawType": "int64",
                  "type": "integer"
                },
                {
                  "name": "reading_remarque",
                  "rawType": "int64",
                  "type": "integer"
                },
                {
                  "name": "counter_coefficient",
                  "rawType": "int64",
                  "type": "integer"
                },
                {
                  "name": "consommation_level_1",
                  "rawType": "int64",
                  "type": "integer"
                },
                {
                  "name": "consommation_level_2",
                  "rawType": "int64",
                  "type": "integer"
                },
                {
                  "name": "consommation_level_3",
                  "rawType": "int64",
                  "type": "integer"
                },
                {
                  "name": "consommation_level_4",
                  "rawType": "int64",
                  "type": "integer"
                },
                {
                  "name": "old_index",
                  "rawType": "int64",
                  "type": "integer"
                },
                {
                  "name": "new_index",
                  "rawType": "int64",
                  "type": "integer"
                },
                {
                  "name": "months_number",
                  "rawType": "int64",
                  "type": "integer"
                },
                {
                  "name": "counter_type",
                  "rawType": "object",
                  "type": "string"
                }
              ],
              "conversionMethod": "pd.DataFrame",
              "ref": "08e7cd9c-4fa7-4cbc-9753-63f721611649",
              "rows": [
                [
                  "0",
                  "train_Client_0",
                  "2014-03-24",
                  "11",
                  "1335667",
                  "0",
                  "203",
                  "8",
                  "1",
                  "82",
                  "0",
                  "0",
                  "0",
                  "14302",
                  "14384",
                  "4",
                  "ELEC"
                ],
                [
                  "1",
                  "train_Client_0",
                  "2013-03-29",
                  "11",
                  "1335667",
                  "0",
                  "203",
                  "6",
                  "1",
                  "1200",
                  "184",
                  "0",
                  "0",
                  "12294",
                  "13678",
                  "4",
                  "ELEC"
                ],
                [
                  "2",
                  "train_Client_0",
                  "2015-03-23",
                  "11",
                  "1335667",
                  "0",
                  "203",
                  "8",
                  "1",
                  "123",
                  "0",
                  "0",
                  "0",
                  "14624",
                  "14747",
                  "4",
                  "ELEC"
                ],
                [
                  "3",
                  "train_Client_0",
                  "2015-07-13",
                  "11",
                  "1335667",
                  "0",
                  "207",
                  "8",
                  "1",
                  "102",
                  "0",
                  "0",
                  "0",
                  "14747",
                  "14849",
                  "4",
                  "ELEC"
                ],
                [
                  "4",
                  "train_Client_0",
                  "2016-11-17",
                  "11",
                  "1335667",
                  "0",
                  "207",
                  "9",
                  "1",
                  "572",
                  "0",
                  "0",
                  "0",
                  "15066",
                  "15638",
                  "12",
                  "ELEC"
                ]
              ],
              "shape": {
                "columns": 16,
                "rows": 5
              }
            },
            "text/html": [
              "<div>\n",
              "<style scoped>\n",
              "    .dataframe tbody tr th:only-of-type {\n",
              "        vertical-align: middle;\n",
              "    }\n",
              "\n",
              "    .dataframe tbody tr th {\n",
              "        vertical-align: top;\n",
              "    }\n",
              "\n",
              "    .dataframe thead th {\n",
              "        text-align: right;\n",
              "    }\n",
              "</style>\n",
              "<table border=\"1\" class=\"dataframe\">\n",
              "  <thead>\n",
              "    <tr style=\"text-align: right;\">\n",
              "      <th></th>\n",
              "      <th>client_id</th>\n",
              "      <th>invoice_date</th>\n",
              "      <th>tarif_type</th>\n",
              "      <th>counter_number</th>\n",
              "      <th>counter_statue</th>\n",
              "      <th>counter_code</th>\n",
              "      <th>reading_remarque</th>\n",
              "      <th>counter_coefficient</th>\n",
              "      <th>consommation_level_1</th>\n",
              "      <th>consommation_level_2</th>\n",
              "      <th>consommation_level_3</th>\n",
              "      <th>consommation_level_4</th>\n",
              "      <th>old_index</th>\n",
              "      <th>new_index</th>\n",
              "      <th>months_number</th>\n",
              "      <th>counter_type</th>\n",
              "    </tr>\n",
              "  </thead>\n",
              "  <tbody>\n",
              "    <tr>\n",
              "      <th>0</th>\n",
              "      <td>train_Client_0</td>\n",
              "      <td>2014-03-24</td>\n",
              "      <td>11</td>\n",
              "      <td>1335667</td>\n",
              "      <td>0</td>\n",
              "      <td>203</td>\n",
              "      <td>8</td>\n",
              "      <td>1</td>\n",
              "      <td>82</td>\n",
              "      <td>0</td>\n",
              "      <td>0</td>\n",
              "      <td>0</td>\n",
              "      <td>14302</td>\n",
              "      <td>14384</td>\n",
              "      <td>4</td>\n",
              "      <td>ELEC</td>\n",
              "    </tr>\n",
              "    <tr>\n",
              "      <th>1</th>\n",
              "      <td>train_Client_0</td>\n",
              "      <td>2013-03-29</td>\n",
              "      <td>11</td>\n",
              "      <td>1335667</td>\n",
              "      <td>0</td>\n",
              "      <td>203</td>\n",
              "      <td>6</td>\n",
              "      <td>1</td>\n",
              "      <td>1200</td>\n",
              "      <td>184</td>\n",
              "      <td>0</td>\n",
              "      <td>0</td>\n",
              "      <td>12294</td>\n",
              "      <td>13678</td>\n",
              "      <td>4</td>\n",
              "      <td>ELEC</td>\n",
              "    </tr>\n",
              "    <tr>\n",
              "      <th>2</th>\n",
              "      <td>train_Client_0</td>\n",
              "      <td>2015-03-23</td>\n",
              "      <td>11</td>\n",
              "      <td>1335667</td>\n",
              "      <td>0</td>\n",
              "      <td>203</td>\n",
              "      <td>8</td>\n",
              "      <td>1</td>\n",
              "      <td>123</td>\n",
              "      <td>0</td>\n",
              "      <td>0</td>\n",
              "      <td>0</td>\n",
              "      <td>14624</td>\n",
              "      <td>14747</td>\n",
              "      <td>4</td>\n",
              "      <td>ELEC</td>\n",
              "    </tr>\n",
              "    <tr>\n",
              "      <th>3</th>\n",
              "      <td>train_Client_0</td>\n",
              "      <td>2015-07-13</td>\n",
              "      <td>11</td>\n",
              "      <td>1335667</td>\n",
              "      <td>0</td>\n",
              "      <td>207</td>\n",
              "      <td>8</td>\n",
              "      <td>1</td>\n",
              "      <td>102</td>\n",
              "      <td>0</td>\n",
              "      <td>0</td>\n",
              "      <td>0</td>\n",
              "      <td>14747</td>\n",
              "      <td>14849</td>\n",
              "      <td>4</td>\n",
              "      <td>ELEC</td>\n",
              "    </tr>\n",
              "    <tr>\n",
              "      <th>4</th>\n",
              "      <td>train_Client_0</td>\n",
              "      <td>2016-11-17</td>\n",
              "      <td>11</td>\n",
              "      <td>1335667</td>\n",
              "      <td>0</td>\n",
              "      <td>207</td>\n",
              "      <td>9</td>\n",
              "      <td>1</td>\n",
              "      <td>572</td>\n",
              "      <td>0</td>\n",
              "      <td>0</td>\n",
              "      <td>0</td>\n",
              "      <td>15066</td>\n",
              "      <td>15638</td>\n",
              "      <td>12</td>\n",
              "      <td>ELEC</td>\n",
              "    </tr>\n",
              "  </tbody>\n",
              "</table>\n",
              "</div>"
            ],
            "text/plain": [
              "        client_id invoice_date  tarif_type  counter_number counter_statue   \n",
              "0  train_Client_0   2014-03-24          11         1335667              0  \\\n",
              "1  train_Client_0   2013-03-29          11         1335667              0   \n",
              "2  train_Client_0   2015-03-23          11         1335667              0   \n",
              "3  train_Client_0   2015-07-13          11         1335667              0   \n",
              "4  train_Client_0   2016-11-17          11         1335667              0   \n",
              "\n",
              "   counter_code  reading_remarque  counter_coefficient  consommation_level_1   \n",
              "0           203                 8                    1                    82  \\\n",
              "1           203                 6                    1                  1200   \n",
              "2           203                 8                    1                   123   \n",
              "3           207                 8                    1                   102   \n",
              "4           207                 9                    1                   572   \n",
              "\n",
              "   consommation_level_2  consommation_level_3  consommation_level_4   \n",
              "0                     0                     0                     0  \\\n",
              "1                   184                     0                     0   \n",
              "2                     0                     0                     0   \n",
              "3                     0                     0                     0   \n",
              "4                     0                     0                     0   \n",
              "\n",
              "   old_index  new_index  months_number counter_type  \n",
              "0      14302      14384              4         ELEC  \n",
              "1      12294      13678              4         ELEC  \n",
              "2      14624      14747              4         ELEC  \n",
              "3      14747      14849              4         ELEC  \n",
              "4      15066      15638             12         ELEC  "
            ]
          },
          "execution_count": 14,
          "metadata": {},
          "output_type": "execute_result"
        }
      ],
      "source": [
        "#print top rows of dataset\n",
        "invoice_train.head()"
      ]
    },
    {
      "cell_type": "code",
      "execution_count": 13,
      "metadata": {
        "colab": {
          "base_uri": "https://localhost:8080/",
          "height": 206
        },
        "id": "jUcrU9IYSMZJ",
        "outputId": "e70e5da0-7451-48ca-8c3a-643524f3139c"
      },
      "outputs": [
        {
          "data": {
            "application/vnd.microsoft.datawrangler.viewer.v0+json": {
              "columns": [
                {
                  "name": "index",
                  "rawType": "int64",
                  "type": "integer"
                },
                {
                  "name": "disrict",
                  "rawType": "int64",
                  "type": "integer"
                },
                {
                  "name": "client_id",
                  "rawType": "object",
                  "type": "string"
                },
                {
                  "name": "client_catg",
                  "rawType": "int64",
                  "type": "integer"
                },
                {
                  "name": "region",
                  "rawType": "int64",
                  "type": "integer"
                },
                {
                  "name": "creation_date",
                  "rawType": "object",
                  "type": "string"
                },
                {
                  "name": "target",
                  "rawType": "float64",
                  "type": "float"
                }
              ],
              "conversionMethod": "pd.DataFrame",
              "ref": "3978fe1d-404b-4894-919f-1fad77408826",
              "rows": [
                [
                  "0",
                  "60",
                  "train_Client_0",
                  "11",
                  "101",
                  "31/12/1994",
                  "0.0"
                ],
                [
                  "1",
                  "69",
                  "train_Client_1",
                  "11",
                  "107",
                  "29/05/2002",
                  "0.0"
                ],
                [
                  "2",
                  "62",
                  "train_Client_10",
                  "11",
                  "301",
                  "13/03/1986",
                  "0.0"
                ],
                [
                  "3",
                  "69",
                  "train_Client_100",
                  "11",
                  "105",
                  "11/07/1996",
                  "0.0"
                ],
                [
                  "4",
                  "62",
                  "train_Client_1000",
                  "11",
                  "303",
                  "14/10/2014",
                  "0.0"
                ]
              ],
              "shape": {
                "columns": 6,
                "rows": 5
              }
            },
            "text/html": [
              "<div>\n",
              "<style scoped>\n",
              "    .dataframe tbody tr th:only-of-type {\n",
              "        vertical-align: middle;\n",
              "    }\n",
              "\n",
              "    .dataframe tbody tr th {\n",
              "        vertical-align: top;\n",
              "    }\n",
              "\n",
              "    .dataframe thead th {\n",
              "        text-align: right;\n",
              "    }\n",
              "</style>\n",
              "<table border=\"1\" class=\"dataframe\">\n",
              "  <thead>\n",
              "    <tr style=\"text-align: right;\">\n",
              "      <th></th>\n",
              "      <th>disrict</th>\n",
              "      <th>client_id</th>\n",
              "      <th>client_catg</th>\n",
              "      <th>region</th>\n",
              "      <th>creation_date</th>\n",
              "      <th>target</th>\n",
              "    </tr>\n",
              "  </thead>\n",
              "  <tbody>\n",
              "    <tr>\n",
              "      <th>0</th>\n",
              "      <td>60</td>\n",
              "      <td>train_Client_0</td>\n",
              "      <td>11</td>\n",
              "      <td>101</td>\n",
              "      <td>31/12/1994</td>\n",
              "      <td>0.0</td>\n",
              "    </tr>\n",
              "    <tr>\n",
              "      <th>1</th>\n",
              "      <td>69</td>\n",
              "      <td>train_Client_1</td>\n",
              "      <td>11</td>\n",
              "      <td>107</td>\n",
              "      <td>29/05/2002</td>\n",
              "      <td>0.0</td>\n",
              "    </tr>\n",
              "    <tr>\n",
              "      <th>2</th>\n",
              "      <td>62</td>\n",
              "      <td>train_Client_10</td>\n",
              "      <td>11</td>\n",
              "      <td>301</td>\n",
              "      <td>13/03/1986</td>\n",
              "      <td>0.0</td>\n",
              "    </tr>\n",
              "    <tr>\n",
              "      <th>3</th>\n",
              "      <td>69</td>\n",
              "      <td>train_Client_100</td>\n",
              "      <td>11</td>\n",
              "      <td>105</td>\n",
              "      <td>11/07/1996</td>\n",
              "      <td>0.0</td>\n",
              "    </tr>\n",
              "    <tr>\n",
              "      <th>4</th>\n",
              "      <td>62</td>\n",
              "      <td>train_Client_1000</td>\n",
              "      <td>11</td>\n",
              "      <td>303</td>\n",
              "      <td>14/10/2014</td>\n",
              "      <td>0.0</td>\n",
              "    </tr>\n",
              "  </tbody>\n",
              "</table>\n",
              "</div>"
            ],
            "text/plain": [
              "   disrict          client_id  client_catg  region creation_date  target\n",
              "0       60     train_Client_0           11     101    31/12/1994     0.0\n",
              "1       69     train_Client_1           11     107    29/05/2002     0.0\n",
              "2       62    train_Client_10           11     301    13/03/1986     0.0\n",
              "3       69   train_Client_100           11     105    11/07/1996     0.0\n",
              "4       62  train_Client_1000           11     303    14/10/2014     0.0"
            ]
          },
          "execution_count": 13,
          "metadata": {},
          "output_type": "execute_result"
        }
      ],
      "source": [
        "#print top rows of dataset\n",
        "client_train.head()"
      ]
    },
    {
      "cell_type": "code",
      "execution_count": null,
      "metadata": {
        "colab": {
          "base_uri": "https://localhost:8080/",
          "height": 300
        },
        "id": "fFBTeG8YSicC",
        "outputId": "551f42dc-8b1c-42a9-9a60-f6dc9279911b"
      },
      "outputs": [
        {
          "data": {
            "text/html": [
              "\n",
              "  <div id=\"df-2f0763b0-1be8-4958-a4f6-1e060a6c57f2\">\n",
              "    <div class=\"colab-df-container\">\n",
              "      <div>\n",
              "<style scoped>\n",
              "    .dataframe tbody tr th:only-of-type {\n",
              "        vertical-align: middle;\n",
              "    }\n",
              "\n",
              "    .dataframe tbody tr th {\n",
              "        vertical-align: top;\n",
              "    }\n",
              "\n",
              "    .dataframe thead th {\n",
              "        text-align: right;\n",
              "    }\n",
              "</style>\n",
              "<table border=\"1\" class=\"dataframe\">\n",
              "  <thead>\n",
              "    <tr style=\"text-align: right;\">\n",
              "      <th></th>\n",
              "      <th>tarif_type</th>\n",
              "      <th>counter_number</th>\n",
              "      <th>counter_code</th>\n",
              "      <th>reading_remarque</th>\n",
              "      <th>counter_coefficient</th>\n",
              "      <th>consommation_level_1</th>\n",
              "      <th>consommation_level_2</th>\n",
              "      <th>consommation_level_3</th>\n",
              "      <th>consommation_level_4</th>\n",
              "      <th>old_index</th>\n",
              "      <th>new_index</th>\n",
              "      <th>months_number</th>\n",
              "    </tr>\n",
              "  </thead>\n",
              "  <tbody>\n",
              "    <tr>\n",
              "      <th>count</th>\n",
              "      <td>4.476749e+06</td>\n",
              "      <td>4.476749e+06</td>\n",
              "      <td>4.476749e+06</td>\n",
              "      <td>4.476749e+06</td>\n",
              "      <td>4.476749e+06</td>\n",
              "      <td>4.476749e+06</td>\n",
              "      <td>4.476749e+06</td>\n",
              "      <td>4.476749e+06</td>\n",
              "      <td>4.476749e+06</td>\n",
              "      <td>4.476749e+06</td>\n",
              "      <td>4.476749e+06</td>\n",
              "      <td>4.476749e+06</td>\n",
              "    </tr>\n",
              "    <tr>\n",
              "      <th>mean</th>\n",
              "      <td>2.012804e+01</td>\n",
              "      <td>1.230587e+11</td>\n",
              "      <td>1.724884e+02</td>\n",
              "      <td>7.321702e+00</td>\n",
              "      <td>1.003040e+00</td>\n",
              "      <td>4.109795e+02</td>\n",
              "      <td>1.093225e+02</td>\n",
              "      <td>2.030620e+01</td>\n",
              "      <td>5.292588e+01</td>\n",
              "      <td>1.776700e+04</td>\n",
              "      <td>1.834970e+04</td>\n",
              "      <td>4.483095e+01</td>\n",
              "    </tr>\n",
              "    <tr>\n",
              "      <th>std</th>\n",
              "      <td>1.347256e+01</td>\n",
              "      <td>1.657267e+12</td>\n",
              "      <td>1.338871e+02</td>\n",
              "      <td>1.571654e+00</td>\n",
              "      <td>3.083466e-01</td>\n",
              "      <td>7.573080e+02</td>\n",
              "      <td>1.220123e+03</td>\n",
              "      <td>1.574239e+02</td>\n",
              "      <td>8.754725e+02</td>\n",
              "      <td>4.036693e+04</td>\n",
              "      <td>4.095321e+04</td>\n",
              "      <td>3.128335e+03</td>\n",
              "    </tr>\n",
              "    <tr>\n",
              "      <th>min</th>\n",
              "      <td>8.000000e+00</td>\n",
              "      <td>0.000000e+00</td>\n",
              "      <td>0.000000e+00</td>\n",
              "      <td>5.000000e+00</td>\n",
              "      <td>0.000000e+00</td>\n",
              "      <td>0.000000e+00</td>\n",
              "      <td>0.000000e+00</td>\n",
              "      <td>0.000000e+00</td>\n",
              "      <td>0.000000e+00</td>\n",
              "      <td>0.000000e+00</td>\n",
              "      <td>0.000000e+00</td>\n",
              "      <td>0.000000e+00</td>\n",
              "    </tr>\n",
              "    <tr>\n",
              "      <th>25%</th>\n",
              "      <td>1.100000e+01</td>\n",
              "      <td>1.211080e+05</td>\n",
              "      <td>5.000000e+00</td>\n",
              "      <td>6.000000e+00</td>\n",
              "      <td>1.000000e+00</td>\n",
              "      <td>7.900000e+01</td>\n",
              "      <td>0.000000e+00</td>\n",
              "      <td>0.000000e+00</td>\n",
              "      <td>0.000000e+00</td>\n",
              "      <td>1.791000e+03</td>\n",
              "      <td>2.056000e+03</td>\n",
              "      <td>4.000000e+00</td>\n",
              "    </tr>\n",
              "    <tr>\n",
              "      <th>50%</th>\n",
              "      <td>1.100000e+01</td>\n",
              "      <td>4.945610e+05</td>\n",
              "      <td>2.030000e+02</td>\n",
              "      <td>8.000000e+00</td>\n",
              "      <td>1.000000e+00</td>\n",
              "      <td>2.740000e+02</td>\n",
              "      <td>0.000000e+00</td>\n",
              "      <td>0.000000e+00</td>\n",
              "      <td>0.000000e+00</td>\n",
              "      <td>7.690000e+03</td>\n",
              "      <td>8.192000e+03</td>\n",
              "      <td>4.000000e+00</td>\n",
              "    </tr>\n",
              "    <tr>\n",
              "      <th>75%</th>\n",
              "      <td>4.000000e+01</td>\n",
              "      <td>1.115161e+06</td>\n",
              "      <td>2.070000e+02</td>\n",
              "      <td>9.000000e+00</td>\n",
              "      <td>1.000000e+00</td>\n",
              "      <td>6.000000e+02</td>\n",
              "      <td>0.000000e+00</td>\n",
              "      <td>0.000000e+00</td>\n",
              "      <td>0.000000e+00</td>\n",
              "      <td>2.166000e+04</td>\n",
              "      <td>2.234300e+04</td>\n",
              "      <td>4.000000e+00</td>\n",
              "    </tr>\n",
              "    <tr>\n",
              "      <th>max</th>\n",
              "      <td>4.500000e+01</td>\n",
              "      <td>2.798115e+13</td>\n",
              "      <td>6.000000e+02</td>\n",
              "      <td>4.130000e+02</td>\n",
              "      <td>5.000000e+01</td>\n",
              "      <td>9.999100e+05</td>\n",
              "      <td>9.990730e+05</td>\n",
              "      <td>6.449200e+04</td>\n",
              "      <td>5.479460e+05</td>\n",
              "      <td>2.800280e+06</td>\n",
              "      <td>2.870972e+06</td>\n",
              "      <td>6.366240e+05</td>\n",
              "    </tr>\n",
              "  </tbody>\n",
              "</table>\n",
              "</div>\n",
              "      <button class=\"colab-df-convert\" onclick=\"convertToInteractive('df-2f0763b0-1be8-4958-a4f6-1e060a6c57f2')\"\n",
              "              title=\"Convert this dataframe to an interactive table.\"\n",
              "              style=\"display:none;\">\n",
              "        \n",
              "  <svg xmlns=\"http://www.w3.org/2000/svg\" height=\"24px\"viewBox=\"0 0 24 24\"\n",
              "       width=\"24px\">\n",
              "    <path d=\"M0 0h24v24H0V0z\" fill=\"none\"/>\n",
              "    <path d=\"M18.56 5.44l.94 2.06.94-2.06 2.06-.94-2.06-.94-.94-2.06-.94 2.06-2.06.94zm-11 1L8.5 8.5l.94-2.06 2.06-.94-2.06-.94L8.5 2.5l-.94 2.06-2.06.94zm10 10l.94 2.06.94-2.06 2.06-.94-2.06-.94-.94-2.06-.94 2.06-2.06.94z\"/><path d=\"M17.41 7.96l-1.37-1.37c-.4-.4-.92-.59-1.43-.59-.52 0-1.04.2-1.43.59L10.3 9.45l-7.72 7.72c-.78.78-.78 2.05 0 2.83L4 21.41c.39.39.9.59 1.41.59.51 0 1.02-.2 1.41-.59l7.78-7.78 2.81-2.81c.8-.78.8-2.07 0-2.86zM5.41 20L4 18.59l7.72-7.72 1.47 1.35L5.41 20z\"/>\n",
              "  </svg>\n",
              "      </button>\n",
              "      \n",
              "  <style>\n",
              "    .colab-df-container {\n",
              "      display:flex;\n",
              "      flex-wrap:wrap;\n",
              "      gap: 12px;\n",
              "    }\n",
              "\n",
              "    .colab-df-convert {\n",
              "      background-color: #E8F0FE;\n",
              "      border: none;\n",
              "      border-radius: 50%;\n",
              "      cursor: pointer;\n",
              "      display: none;\n",
              "      fill: #1967D2;\n",
              "      height: 32px;\n",
              "      padding: 0 0 0 0;\n",
              "      width: 32px;\n",
              "    }\n",
              "\n",
              "    .colab-df-convert:hover {\n",
              "      background-color: #E2EBFA;\n",
              "      box-shadow: 0px 1px 2px rgba(60, 64, 67, 0.3), 0px 1px 3px 1px rgba(60, 64, 67, 0.15);\n",
              "      fill: #174EA6;\n",
              "    }\n",
              "\n",
              "    [theme=dark] .colab-df-convert {\n",
              "      background-color: #3B4455;\n",
              "      fill: #D2E3FC;\n",
              "    }\n",
              "\n",
              "    [theme=dark] .colab-df-convert:hover {\n",
              "      background-color: #434B5C;\n",
              "      box-shadow: 0px 1px 3px 1px rgba(0, 0, 0, 0.15);\n",
              "      filter: drop-shadow(0px 1px 2px rgba(0, 0, 0, 0.3));\n",
              "      fill: #FFFFFF;\n",
              "    }\n",
              "  </style>\n",
              "\n",
              "      <script>\n",
              "        const buttonEl =\n",
              "          document.querySelector('#df-2f0763b0-1be8-4958-a4f6-1e060a6c57f2 button.colab-df-convert');\n",
              "        buttonEl.style.display =\n",
              "          google.colab.kernel.accessAllowed ? 'block' : 'none';\n",
              "\n",
              "        async function convertToInteractive(key) {\n",
              "          const element = document.querySelector('#df-2f0763b0-1be8-4958-a4f6-1e060a6c57f2');\n",
              "          const dataTable =\n",
              "            await google.colab.kernel.invokeFunction('convertToInteractive',\n",
              "                                                     [key], {});\n",
              "          if (!dataTable) return;\n",
              "\n",
              "          const docLinkHtml = 'Like what you see? Visit the ' +\n",
              "            '<a target=\"_blank\" href=https://colab.research.google.com/notebooks/data_table.ipynb>data table notebook</a>'\n",
              "            + ' to learn more about interactive tables.';\n",
              "          element.innerHTML = '';\n",
              "          dataTable['output_type'] = 'display_data';\n",
              "          await google.colab.output.renderOutput(dataTable, element);\n",
              "          const docLink = document.createElement('div');\n",
              "          docLink.innerHTML = docLinkHtml;\n",
              "          element.appendChild(docLink);\n",
              "        }\n",
              "      </script>\n",
              "    </div>\n",
              "  </div>\n",
              "  "
            ],
            "text/plain": [
              "         tarif_type  counter_number  counter_code  reading_remarque  \\\n",
              "count  4.476749e+06    4.476749e+06  4.476749e+06      4.476749e+06   \n",
              "mean   2.012804e+01    1.230587e+11  1.724884e+02      7.321702e+00   \n",
              "std    1.347256e+01    1.657267e+12  1.338871e+02      1.571654e+00   \n",
              "min    8.000000e+00    0.000000e+00  0.000000e+00      5.000000e+00   \n",
              "25%    1.100000e+01    1.211080e+05  5.000000e+00      6.000000e+00   \n",
              "50%    1.100000e+01    4.945610e+05  2.030000e+02      8.000000e+00   \n",
              "75%    4.000000e+01    1.115161e+06  2.070000e+02      9.000000e+00   \n",
              "max    4.500000e+01    2.798115e+13  6.000000e+02      4.130000e+02   \n",
              "\n",
              "       counter_coefficient  consommation_level_1  consommation_level_2  \\\n",
              "count         4.476749e+06          4.476749e+06          4.476749e+06   \n",
              "mean          1.003040e+00          4.109795e+02          1.093225e+02   \n",
              "std           3.083466e-01          7.573080e+02          1.220123e+03   \n",
              "min           0.000000e+00          0.000000e+00          0.000000e+00   \n",
              "25%           1.000000e+00          7.900000e+01          0.000000e+00   \n",
              "50%           1.000000e+00          2.740000e+02          0.000000e+00   \n",
              "75%           1.000000e+00          6.000000e+02          0.000000e+00   \n",
              "max           5.000000e+01          9.999100e+05          9.990730e+05   \n",
              "\n",
              "       consommation_level_3  consommation_level_4     old_index     new_index  \\\n",
              "count          4.476749e+06          4.476749e+06  4.476749e+06  4.476749e+06   \n",
              "mean           2.030620e+01          5.292588e+01  1.776700e+04  1.834970e+04   \n",
              "std            1.574239e+02          8.754725e+02  4.036693e+04  4.095321e+04   \n",
              "min            0.000000e+00          0.000000e+00  0.000000e+00  0.000000e+00   \n",
              "25%            0.000000e+00          0.000000e+00  1.791000e+03  2.056000e+03   \n",
              "50%            0.000000e+00          0.000000e+00  7.690000e+03  8.192000e+03   \n",
              "75%            0.000000e+00          0.000000e+00  2.166000e+04  2.234300e+04   \n",
              "max            6.449200e+04          5.479460e+05  2.800280e+06  2.870972e+06   \n",
              "\n",
              "       months_number  \n",
              "count   4.476749e+06  \n",
              "mean    4.483095e+01  \n",
              "std     3.128335e+03  \n",
              "min     0.000000e+00  \n",
              "25%     4.000000e+00  \n",
              "50%     4.000000e+00  \n",
              "75%     4.000000e+00  \n",
              "max     6.366240e+05  "
            ]
          },
          "execution_count": 10,
          "metadata": {},
          "output_type": "execute_result"
        }
      ],
      "source": [
        "#Get a summary for all numerical columns\n",
        "invoice_train.describe()"
      ]
    },
    {
      "cell_type": "code",
      "execution_count": 15,
      "metadata": {
        "colab": {
          "base_uri": "https://localhost:8080/",
          "height": 300
        },
        "id": "egcBZ2ysSkji",
        "outputId": "37102972-554b-4063-ce3b-14dae74b3540"
      },
      "outputs": [
        {
          "data": {
            "application/vnd.microsoft.datawrangler.viewer.v0+json": {
              "columns": [
                {
                  "name": "index",
                  "rawType": "object",
                  "type": "string"
                },
                {
                  "name": "disrict",
                  "rawType": "float64",
                  "type": "float"
                },
                {
                  "name": "client_catg",
                  "rawType": "float64",
                  "type": "float"
                },
                {
                  "name": "region",
                  "rawType": "float64",
                  "type": "float"
                },
                {
                  "name": "target",
                  "rawType": "float64",
                  "type": "float"
                }
              ],
              "conversionMethod": "pd.DataFrame",
              "ref": "6c7aba21-21ae-484d-8e14-5bc8390c5f9e",
              "rows": [
                [
                  "count",
                  "135493.0",
                  "135493.0",
                  "135493.0",
                  "135493.0"
                ],
                [
                  "mean",
                  "63.51122198194741",
                  "11.512506181131128",
                  "206.15980899382257",
                  "0.05584052312665599"
                ],
                [
                  "std",
                  "3.3544003186962676",
                  "4.423760581139489",
                  "104.20704438656453",
                  "0.229614346723963"
                ],
                [
                  "min",
                  "60.0",
                  "11.0",
                  "101.0",
                  "0.0"
                ],
                [
                  "25%",
                  "62.0",
                  "11.0",
                  "103.0",
                  "0.0"
                ],
                [
                  "50%",
                  "62.0",
                  "11.0",
                  "107.0",
                  "0.0"
                ],
                [
                  "75%",
                  "69.0",
                  "11.0",
                  "307.0",
                  "0.0"
                ],
                [
                  "max",
                  "69.0",
                  "51.0",
                  "399.0",
                  "1.0"
                ]
              ],
              "shape": {
                "columns": 4,
                "rows": 8
              }
            },
            "text/html": [
              "<div>\n",
              "<style scoped>\n",
              "    .dataframe tbody tr th:only-of-type {\n",
              "        vertical-align: middle;\n",
              "    }\n",
              "\n",
              "    .dataframe tbody tr th {\n",
              "        vertical-align: top;\n",
              "    }\n",
              "\n",
              "    .dataframe thead th {\n",
              "        text-align: right;\n",
              "    }\n",
              "</style>\n",
              "<table border=\"1\" class=\"dataframe\">\n",
              "  <thead>\n",
              "    <tr style=\"text-align: right;\">\n",
              "      <th></th>\n",
              "      <th>disrict</th>\n",
              "      <th>client_catg</th>\n",
              "      <th>region</th>\n",
              "      <th>target</th>\n",
              "    </tr>\n",
              "  </thead>\n",
              "  <tbody>\n",
              "    <tr>\n",
              "      <th>count</th>\n",
              "      <td>135493.000000</td>\n",
              "      <td>135493.000000</td>\n",
              "      <td>135493.000000</td>\n",
              "      <td>135493.000000</td>\n",
              "    </tr>\n",
              "    <tr>\n",
              "      <th>mean</th>\n",
              "      <td>63.511222</td>\n",
              "      <td>11.512506</td>\n",
              "      <td>206.159809</td>\n",
              "      <td>0.055841</td>\n",
              "    </tr>\n",
              "    <tr>\n",
              "      <th>std</th>\n",
              "      <td>3.354400</td>\n",
              "      <td>4.423761</td>\n",
              "      <td>104.207044</td>\n",
              "      <td>0.229614</td>\n",
              "    </tr>\n",
              "    <tr>\n",
              "      <th>min</th>\n",
              "      <td>60.000000</td>\n",
              "      <td>11.000000</td>\n",
              "      <td>101.000000</td>\n",
              "      <td>0.000000</td>\n",
              "    </tr>\n",
              "    <tr>\n",
              "      <th>25%</th>\n",
              "      <td>62.000000</td>\n",
              "      <td>11.000000</td>\n",
              "      <td>103.000000</td>\n",
              "      <td>0.000000</td>\n",
              "    </tr>\n",
              "    <tr>\n",
              "      <th>50%</th>\n",
              "      <td>62.000000</td>\n",
              "      <td>11.000000</td>\n",
              "      <td>107.000000</td>\n",
              "      <td>0.000000</td>\n",
              "    </tr>\n",
              "    <tr>\n",
              "      <th>75%</th>\n",
              "      <td>69.000000</td>\n",
              "      <td>11.000000</td>\n",
              "      <td>307.000000</td>\n",
              "      <td>0.000000</td>\n",
              "    </tr>\n",
              "    <tr>\n",
              "      <th>max</th>\n",
              "      <td>69.000000</td>\n",
              "      <td>51.000000</td>\n",
              "      <td>399.000000</td>\n",
              "      <td>1.000000</td>\n",
              "    </tr>\n",
              "  </tbody>\n",
              "</table>\n",
              "</div>"
            ],
            "text/plain": [
              "             disrict    client_catg         region         target\n",
              "count  135493.000000  135493.000000  135493.000000  135493.000000\n",
              "mean       63.511222      11.512506     206.159809       0.055841\n",
              "std         3.354400       4.423761     104.207044       0.229614\n",
              "min        60.000000      11.000000     101.000000       0.000000\n",
              "25%        62.000000      11.000000     103.000000       0.000000\n",
              "50%        62.000000      11.000000     107.000000       0.000000\n",
              "75%        69.000000      11.000000     307.000000       0.000000\n",
              "max        69.000000      51.000000     399.000000       1.000000"
            ]
          },
          "execution_count": 15,
          "metadata": {},
          "output_type": "execute_result"
        }
      ],
      "source": [
        "#Get a summary for all numerical columns\n",
        "client_train.describe()"
      ]
    },
    {
      "cell_type": "code",
      "execution_count": 16,
      "metadata": {
        "colab": {
          "base_uri": "https://localhost:8080/"
        },
        "id": "-8gQmkajSnXs",
        "outputId": "fef429ad-2fd5-46e3-9d3b-32def757324c"
      },
      "outputs": [
        {
          "name": "stdout",
          "output_type": "stream",
          "text": [
            "<class 'pandas.core.frame.DataFrame'>\n",
            "RangeIndex: 4476749 entries, 0 to 4476748\n",
            "Data columns (total 16 columns):\n",
            " #   Column                Dtype \n",
            "---  ------                ----- \n",
            " 0   client_id             object\n",
            " 1   invoice_date          object\n",
            " 2   tarif_type            int64 \n",
            " 3   counter_number        int64 \n",
            " 4   counter_statue        object\n",
            " 5   counter_code          int64 \n",
            " 6   reading_remarque      int64 \n",
            " 7   counter_coefficient   int64 \n",
            " 8   consommation_level_1  int64 \n",
            " 9   consommation_level_2  int64 \n",
            " 10  consommation_level_3  int64 \n",
            " 11  consommation_level_4  int64 \n",
            " 12  old_index             int64 \n",
            " 13  new_index             int64 \n",
            " 14  months_number         int64 \n",
            " 15  counter_type          object\n",
            "dtypes: int64(12), object(4)\n",
            "memory usage: 546.5+ MB\n"
          ]
        }
      ],
      "source": [
        "#Get concise information of each column in dataset\n",
        "invoice_train.info()"
      ]
    },
    {
      "cell_type": "code",
      "execution_count": 17,
      "metadata": {
        "colab": {
          "base_uri": "https://localhost:8080/"
        },
        "id": "VII8aa8CSoed",
        "outputId": "330bd35b-fd37-422b-b718-c34d354661db"
      },
      "outputs": [
        {
          "name": "stdout",
          "output_type": "stream",
          "text": [
            "<class 'pandas.core.frame.DataFrame'>\n",
            "RangeIndex: 135493 entries, 0 to 135492\n",
            "Data columns (total 6 columns):\n",
            " #   Column         Non-Null Count   Dtype  \n",
            "---  ------         --------------   -----  \n",
            " 0   disrict        135493 non-null  int64  \n",
            " 1   client_id      135493 non-null  object \n",
            " 2   client_catg    135493 non-null  int64  \n",
            " 3   region         135493 non-null  int64  \n",
            " 4   creation_date  135493 non-null  object \n",
            " 5   target         135493 non-null  float64\n",
            "dtypes: float64(1), int64(3), object(2)\n",
            "memory usage: 6.2+ MB\n"
          ]
        }
      ],
      "source": [
        "#Get concise information of each column in dataset\n",
        "client_train.info()"
      ]
    },
    {
      "cell_type": "code",
      "execution_count": 18,
      "metadata": {
        "colab": {
          "base_uri": "https://localhost:8080/"
        },
        "id": "iiJ3e_pFSOWg",
        "outputId": "d074cb2a-d009-471f-f124-466db367df68"
      },
      "outputs": [
        {
          "name": "stdout",
          "output_type": "stream",
          "text": [
            "client_id - 135493\n",
            "invoice_date - 8275\n",
            "tarif_type - 17\n",
            "counter_number - 201893\n",
            "counter_statue - 12\n",
            "counter_code - 42\n",
            "reading_remarque - 8\n",
            "counter_coefficient - 16\n",
            "consommation_level_1 - 8295\n",
            "consommation_level_2 - 12576\n",
            "consommation_level_3 - 2253\n",
            "consommation_level_4 - 12075\n",
            "old_index - 155648\n",
            "new_index - 157980\n",
            "months_number - 1370\n",
            "counter_type - 2\n"
          ]
        }
      ],
      "source": [
        "#Getting unique values on the invoice train data\n",
        "for col in invoice_train.columns:\n",
        "    print(f\"{col} - {invoice_train[col].nunique()}\")"
      ]
    },
    {
      "cell_type": "code",
      "execution_count": 21,
      "metadata": {},
      "outputs": [
        {
          "data": {
            "text/plain": [
              "3704439         0\n",
              "3985967         0\n",
              "364848          1\n",
              "593272          1\n",
              "593273          1\n",
              "            ...  \n",
              "1160379    620874\n",
              "1160378    625521\n",
              "1160371    629631\n",
              "1160370    633228\n",
              "1160369    636624\n",
              "Name: months_number, Length: 4476749, dtype: int64"
            ]
          },
          "execution_count": 21,
          "metadata": {},
          "output_type": "execute_result"
        }
      ],
      "source": [
        "invoice_train.months_number.sort_values()"
      ]
    },
    {
      "cell_type": "code",
      "execution_count": 22,
      "metadata": {
        "colab": {
          "base_uri": "https://localhost:8080/"
        },
        "id": "uMC16gFETUAF",
        "outputId": "0e363f7b-35c4-45c2-c763-acf80585ef7c"
      },
      "outputs": [
        {
          "name": "stdout",
          "output_type": "stream",
          "text": [
            "disrict - 4\n",
            "client_id - 135493\n",
            "client_catg - 3\n",
            "region - 25\n",
            "creation_date - 8088\n",
            "target - 2\n"
          ]
        }
      ],
      "source": [
        "#Getting unique values on the invoice train data\n",
        "for col in client_train.columns:\n",
        "    print(f\"{col} - {client_train[col].nunique()}\")"
      ]
    },
    {
      "cell_type": "code",
      "execution_count": 23,
      "metadata": {},
      "outputs": [
        {
          "data": {
            "text/plain": [
              "47554     01/01/1997\n",
              "18803     01/01/1997\n",
              "6081      01/01/1997\n",
              "7967      01/01/1997\n",
              "121957    01/01/1997\n",
              "             ...    \n",
              "129529    31/12/2018\n",
              "80090     31/12/2018\n",
              "15451     31/12/2018\n",
              "18228     31/12/2018\n",
              "40990     31/12/2018\n",
              "Name: creation_date, Length: 135493, dtype: object"
            ]
          },
          "execution_count": 23,
          "metadata": {},
          "output_type": "execute_result"
        }
      ],
      "source": [
        "client_train.creation_date .sort_values()"
      ]
    },
    {
      "cell_type": "code",
      "execution_count": 24,
      "metadata": {
        "colab": {
          "base_uri": "https://localhost:8080/"
        },
        "id": "h10LPXsfVHhu",
        "outputId": "332ac9e1-02e3-4a3a-a8d6-1c8d706b9601"
      },
      "outputs": [
        {
          "data": {
            "text/plain": [
              "client_id               0\n",
              "invoice_date            0\n",
              "tarif_type              0\n",
              "counter_number          0\n",
              "counter_statue          0\n",
              "counter_code            0\n",
              "reading_remarque        0\n",
              "counter_coefficient     0\n",
              "consommation_level_1    0\n",
              "consommation_level_2    0\n",
              "consommation_level_3    0\n",
              "consommation_level_4    0\n",
              "old_index               0\n",
              "new_index               0\n",
              "months_number           0\n",
              "counter_type            0\n",
              "dtype: int64"
            ]
          },
          "execution_count": 24,
          "metadata": {},
          "output_type": "execute_result"
        }
      ],
      "source": [
        "#check for missing values\n",
        "invoice_train.isnull().sum()"
      ]
    },
    {
      "cell_type": "code",
      "execution_count": 25,
      "metadata": {
        "colab": {
          "base_uri": "https://localhost:8080/"
        },
        "id": "b3XyoiIbVO-b",
        "outputId": "9200e12f-66fd-43a4-edf4-daa1e1cfdd11"
      },
      "outputs": [
        {
          "data": {
            "text/plain": [
              "disrict          0\n",
              "client_id        0\n",
              "client_catg      0\n",
              "region           0\n",
              "creation_date    0\n",
              "target           0\n",
              "dtype: int64"
            ]
          },
          "execution_count": 25,
          "metadata": {},
          "output_type": "execute_result"
        }
      ],
      "source": [
        "#check for missing values\n",
        "client_train.isnull().sum()"
      ]
    },
    {
      "cell_type": "markdown",
      "metadata": {
        "id": "i3oZLTnSVSOT"
      },
      "source": [
        "No missing values in train set"
      ]
    },
    {
      "cell_type": "code",
      "execution_count": 26,
      "metadata": {
        "colab": {
          "base_uri": "https://localhost:8080/",
          "height": 281
        },
        "id": "JOzSAlEWTR3j",
        "outputId": "97a46548-924e-44a4-9b85-e40d01979b99"
      },
      "outputs": [
        {
          "data": {
            "image/png": "[encoded data removed]",
            "text/plain": [
              "<Figure size 640x480 with 1 Axes>"
            ]
          },
          "metadata": {},
          "output_type": "display_data"
        }
      ],
      "source": [
        "#Visualize fraudulent activities\n",
        "fraudactivities = client_train.groupby(['target'])['client_id'].count()\n",
        "plt.bar(x=fraudactivities.index, height=fraudactivities.values, tick_label = [0,1])\n",
        "plt.title('Fraud - Target Distribution')\n",
        "plt.show()"
      ]
    },
    {
      "cell_type": "markdown",
      "metadata": {
        "id": "fQb7RZf_Ufn9"
      },
      "source": [
        "Target is highly imbalanced with fewer cases of fraudulent activities"
      ]
    },
    {
      "cell_type": "code",
      "execution_count": 27,
      "metadata": {
        "colab": {
          "base_uri": "https://localhost:8080/",
          "height": 545
        },
        "id": "v8G8BPgMUrVW",
        "outputId": "886941f9-3a90-48c2-ddac-75728bd7b935"
      },
      "outputs": [
        {
          "data": {
            "image/png": "[encoded data removed]",
            "text/plain": [
              "<Figure size 640x480 with 1 Axes>"
            ]
          },
          "metadata": {},
          "output_type": "display_data"
        },
        {
          "data": {
            "image/png": "[encoded data removed]",
            "text/plain": [
              "<Figure size 640x480 with 1 Axes>"
            ]
          },
          "metadata": {},
          "output_type": "display_data"
        }
      ],
      "source": [
        "#Visualize client distribution across districts and regions\n",
        "for col in ['disrict','region']:\n",
        "    region = client_train.groupby([col])['client_id'].count()\n",
        "    plt.bar(x=region.index, height=region.values)\n",
        "    plt.title(col+' distribution')\n",
        "    plt.show()"
      ]
    },
    {
      "cell_type": "markdown",
      "metadata": {
        "id": "0-LOrxdIU7-h"
      },
      "source": [
        "## Feature Engineering"
      ]
    },
    {
      "cell_type": "code",
      "execution_count": 28,
      "metadata": {
        "id": "aVypp4ahU9tq"
      },
      "outputs": [],
      "source": [
        "#convert the column invoice_date to date time format on both the invoice train and invoice test\n",
        "for df in [invoice_train,invoice_test]:\n",
        "    df['invoice_date'] = pd.to_datetime(df['invoice_date'])"
      ]
    },
    {
      "cell_type": "code",
      "execution_count": 29,
      "metadata": {
        "id": "sW2W5i63VYyK"
      },
      "outputs": [],
      "source": [
        "#encode labels in categorical column\n",
        "d={\"ELEC\":0,\"GAZ\":1}\n",
        "invoice_train['counter_type']=invoice_train['counter_type'].map(d)\n",
        "invoice_test['counter_type']=invoice_test['counter_type'].map(d)"
      ]
    },
    {
      "cell_type": "code",
      "execution_count": 30,
      "metadata": {
        "id": "NldYnn0GWHAk"
      },
      "outputs": [],
      "source": [
        "#convert categorical columns to int for model\n",
        "client_train['client_catg'] = client_train['client_catg'].astype(int)\n",
        "client_train['disrict'] = client_train['disrict'].astype(int)\n",
        "\n",
        "client_test['client_catg'] = client_test['client_catg'].astype(int)\n",
        "client_test['disrict'] = client_test['disrict'].astype(int)"
      ]
    },
    {
      "cell_type": "code",
      "execution_count": 31,
      "metadata": {
        "id": "Bt7LJHhyXJji"
      },
      "outputs": [],
      "source": [
        "def aggregate_by_client_id(invoice_data):\n",
        "    aggs = {}\n",
        "    aggs['consommation_level_1'] = ['mean']\n",
        "    aggs['consommation_level_2'] = ['mean']\n",
        "    aggs['consommation_level_3'] = ['mean']\n",
        "    aggs['consommation_level_4'] = ['mean']\n",
        "\n",
        "    agg_trans = invoice_data.groupby(['client_id']).agg(aggs)\n",
        "    agg_trans.columns = ['_'.join(col).strip() for col in agg_trans.columns.values]\n",
        "    agg_trans.reset_index(inplace=True)\n",
        "\n",
        "    df = (invoice_data.groupby('client_id')\n",
        "            .size()\n",
        "            .reset_index(name='{}transactions_count'.format('1')))\n",
        "    return pd.merge(df, agg_trans, on='client_id', how='left')"
      ]
    },
    {
      "cell_type": "code",
      "execution_count": 32,
      "metadata": {
        "id": "8gUjxEmKWZjp"
      },
      "outputs": [],
      "source": [
        "#group invoice data by client_id\n",
        "agg_train = aggregate_by_client_id(invoice_train)"
      ]
    },
    {
      "cell_type": "code",
      "execution_count": null,
      "metadata": {
        "colab": {
          "base_uri": "https://localhost:8080/",
          "height": 224
        },
        "id": "5cIpY1tGWrkw",
        "outputId": "c57de3d5-3efe-4e8a-9a0c-7362f05fca4c"
      },
      "outputs": [
        {
          "name": "stdout",
          "output_type": "stream",
          "text": [
            "(135493, 6)\n"
          ]
        },
        {
          "data": {
            "application/vnd.microsoft.datawrangler.viewer.v0+json": {
              "columns": [
                {
                  "name": "index",
                  "rawType": "object",
                  "type": "string"
                },
                {
                  "name": "1transactions_count",
                  "rawType": "float64",
                  "type": "float"
                },
                {
                  "name": "consommation_level_1_mean",
                  "rawType": "float64",
                  "type": "float"
                },
                {
                  "name": "consommation_level_2_mean",
                  "rawType": "float64",
                  "type": "float"
                },
                {
                  "name": "consommation_level_3_mean",
                  "rawType": "float64",
                  "type": "float"
                },
                {
                  "name": "consommation_level_4_mean",
                  "rawType": "float64",
                  "type": "float"
                }
              ],
              "conversionMethod": "pd.DataFrame",
              "ref": "79ff5c8a-6618-4eaf-98e4-43f1ec99181a",
              "rows": [
                [
                  "count",
                  "135493.0",
                  "135493.0",
                  "135493.0",
                  "135493.0",
                  "135493.0"
                ],
                [
                  "mean",
                  "33.04044489383215",
                  "432.3660205601853",
                  "115.33425295524086",
                  "27.63424089831957",
                  "73.09798117835206"
                ],
                [
                  "std",
                  "26.092229095432323",
                  "758.003976660717",
                  "747.4168093470158",
                  "157.2945178306754",
                  "814.2166258642055"
                ],
                [
                  "min",
                  "1.0",
                  "0.0",
                  "0.0",
                  "0.0",
                  "0.0"
                ],
                [
                  "25%",
                  "10.0",
                  "215.28070175438597",
                  "0.0",
                  "0.0",
                  "0.0"
                ],
                [
                  "50%",
                  "30.0",
                  "355.640625",
                  "4.987179487179487",
                  "0.0",
                  "0.0"
                ],
                [
                  "75%",
                  "50.0",
                  "541.8888888888889",
                  "63.63636363636363",
                  "3.9298245614035086",
                  "0.0"
                ],
                [
                  "max",
                  "439.0",
                  "99920.0",
                  "115683.0",
                  "38526.857142857145",
                  "79179.77777777778"
                ]
              ],
              "shape": {
                "columns": 5,
                "rows": 8
              }
            },
            "text/html": [
              "<div>\n",
              "<style scoped>\n",
              "    .dataframe tbody tr th:only-of-type {\n",
              "        vertical-align: middle;\n",
              "    }\n",
              "\n",
              "    .dataframe tbody tr th {\n",
              "        vertical-align: top;\n",
              "    }\n",
              "\n",
              "    .dataframe thead th {\n",
              "        text-align: right;\n",
              "    }\n",
              "</style>\n",
              "<table border=\"1\" class=\"dataframe\">\n",
              "  <thead>\n",
              "    <tr style=\"text-align: right;\">\n",
              "      <th></th>\n",
              "      <th>1transactions_count</th>\n",
              "      <th>consommation_level_1_mean</th>\n",
              "      <th>consommation_level_2_mean</th>\n",
              "      <th>consommation_level_3_mean</th>\n",
              "      <th>consommation_level_4_mean</th>\n",
              "    </tr>\n",
              "  </thead>\n",
              "  <tbody>\n",
              "    <tr>\n",
              "      <th>count</th>\n",
              "      <td>135493.000000</td>\n",
              "      <td>135493.000000</td>\n",
              "      <td>135493.000000</td>\n",
              "      <td>135493.000000</td>\n",
              "      <td>135493.000000</td>\n",
              "    </tr>\n",
              "    <tr>\n",
              "      <th>mean</th>\n",
              "      <td>33.040445</td>\n",
              "      <td>432.366021</td>\n",
              "      <td>115.334253</td>\n",
              "      <td>27.634241</td>\n",
              "      <td>73.097981</td>\n",
              "    </tr>\n",
              "    <tr>\n",
              "      <th>std</th>\n",
              "      <td>26.092229</td>\n",
              "      <td>758.003977</td>\n",
              "      <td>747.416809</td>\n",
              "      <td>157.294518</td>\n",
              "      <td>814.216626</td>\n",
              "    </tr>\n",
              "    <tr>\n",
              "      <th>min</th>\n",
              "      <td>1.000000</td>\n",
              "      <td>0.000000</td>\n",
              "      <td>0.000000</td>\n",
              "      <td>0.000000</td>\n",
              "      <td>0.000000</td>\n",
              "    </tr>\n",
              "    <tr>\n",
              "      <th>25%</th>\n",
              "      <td>10.000000</td>\n",
              "      <td>215.280702</td>\n",
              "      <td>0.000000</td>\n",
              "      <td>0.000000</td>\n",
              "      <td>0.000000</td>\n",
              "    </tr>\n",
              "    <tr>\n",
              "      <th>50%</th>\n",
              "      <td>30.000000</td>\n",
              "      <td>355.640625</td>\n",
              "      <td>4.987179</td>\n",
              "      <td>0.000000</td>\n",
              "      <td>0.000000</td>\n",
              "    </tr>\n",
              "    <tr>\n",
              "      <th>75%</th>\n",
              "      <td>50.000000</td>\n",
              "      <td>541.888889</td>\n",
              "      <td>63.636364</td>\n",
              "      <td>3.929825</td>\n",
              "      <td>0.000000</td>\n",
              "    </tr>\n",
              "    <tr>\n",
              "      <th>max</th>\n",
              "      <td>439.000000</td>\n",
              "      <td>99920.000000</td>\n",
              "      <td>115683.000000</td>\n",
              "      <td>38526.857143</td>\n",
              "      <td>79179.777778</td>\n",
              "    </tr>\n",
              "  </tbody>\n",
              "</table>\n",
              "</div>"
            ],
            "text/plain": [
              "       1transactions_count  consommation_level_1_mean   \n",
              "count        135493.000000              135493.000000  \\\n",
              "mean             33.040445                 432.366021   \n",
              "std              26.092229                 758.003977   \n",
              "min               1.000000                   0.000000   \n",
              "25%              10.000000                 215.280702   \n",
              "50%              30.000000                 355.640625   \n",
              "75%              50.000000                 541.888889   \n",
              "max             439.000000               99920.000000   \n",
              "\n",
              "       consommation_level_2_mean  consommation_level_3_mean   \n",
              "count              135493.000000              135493.000000  \\\n",
              "mean                  115.334253                  27.634241   \n",
              "std                   747.416809                 157.294518   \n",
              "min                     0.000000                   0.000000   \n",
              "25%                     0.000000                   0.000000   \n",
              "50%                     4.987179                   0.000000   \n",
              "75%                    63.636364                   3.929825   \n",
              "max                115683.000000               38526.857143   \n",
              "\n",
              "       consommation_level_4_mean  \n",
              "count              135493.000000  \n",
              "mean                   73.097981  \n",
              "std                   814.216626  \n",
              "min                     0.000000  \n",
              "25%                     0.000000  \n",
              "50%                     0.000000  \n",
              "75%                     0.000000  \n",
              "max                 79179.777778  "
            ]
          },
          "execution_count": 34,
          "metadata": {},
          "output_type": "execute_result"
        }
      ],
      "source": [
        "print(agg_train.shape)\n",
        "agg_train.head()\n",
        "#agg_train.describe()"
      ]
    },
    {
      "cell_type": "code",
      "execution_count": 35,
      "metadata": {
        "id": "beXOMOEMW97l"
      },
      "outputs": [],
      "source": [
        "#merge aggregate data with client dataset\n",
        "train = pd.merge(client_train,agg_train, on='client_id', how='left')"
      ]
    },
    {
      "cell_type": "code",
      "execution_count": 36,
      "metadata": {
        "id": "y6SFawOVXFDX"
      },
      "outputs": [],
      "source": [
        "#aggregate test set\n",
        "agg_test = aggregate_by_client_id(invoice_test)\n",
        "test = pd.merge(client_test,agg_test, on='client_id', how='left')"
      ]
    },
    {
      "cell_type": "code",
      "execution_count": 37,
      "metadata": {
        "colab": {
          "base_uri": "https://localhost:8080/"
        },
        "id": "dg0832jcXzkI",
        "outputId": "2c6ff557-0258-4310-d8f6-aad0627c9ddb"
      },
      "outputs": [
        {
          "data": {
            "text/plain": [
              "((135493, 11), (58069, 10))"
            ]
          },
          "execution_count": 37,
          "metadata": {},
          "output_type": "execute_result"
        }
      ],
      "source": [
        "train.shape, test.shape"
      ]
    },
    {
      "cell_type": "code",
      "execution_count": 38,
      "metadata": {
        "id": "BwYBcKk8X3mr"
      },
      "outputs": [],
      "source": [
        "#drop redundant columns\n",
        "sub_client_id = test['client_id']\n",
        "drop_columns = ['client_id', 'creation_date']\n",
        "\n",
        "for col in drop_columns:\n",
        "    if col in train.columns:\n",
        "        train.drop([col], axis=1, inplace=True)\n",
        "    if col in test.columns:\n",
        "        test.drop([col], axis=1, inplace=True)"
      ]
    },
    {
      "cell_type": "markdown",
      "metadata": {
        "id": "iJ3KlVOCYfnZ"
      },
      "source": [
        "# Modelling"
      ]
    },
    {
      "cell_type": "markdown",
      "metadata": {
        "id": "d1qXp8jYY30X"
      },
      "source": [
        "## Train LGBM *Classifier*"
      ]
    },
    {
      "cell_type": "code",
      "execution_count": 39,
      "metadata": {
        "id": "QTr8Wbu1ZKTM"
      },
      "outputs": [],
      "source": [
        "x_train = train.drop(columns=['target'])\n",
        "y_train = train['target']"
      ]
    },
    {
      "cell_type": "code",
      "execution_count": 49,
      "metadata": {
        "colab": {
          "base_uri": "https://localhost:8080/"
        },
        "id": "iXjUC4PZYMgF",
        "outputId": "3f132cea-1ef5-45ce-bdf0-45c76a62c84c"
      },
      "outputs": [
        {
          "name": "stdout",
          "output_type": "stream",
          "text": [
            "[LightGBM] [Info] Number of positive: 7566, number of negative: 127927\n",
            "[LightGBM] [Info] Auto-choosing row-wise multi-threading, the overhead of testing was 0.025980 seconds.\n",
            "You can set `force_row_wise=true` to remove the overhead.\n",
            "And if memory is not enough, you can set `force_col_wise=true`.\n",
            "[LightGBM] [Info] Total Bins 1296\n",
            "[LightGBM] [Info] Number of data points in the train set: 135493, number of used features: 8\n",
            "[LightGBM] [Info] [binary:BoostFromScore]: pavg=0.055841 -> initscore=-2.827795\n",
            "[LightGBM] [Info] Start training from score -2.827795\n"
          ]
        },
        {
          "data": {
            "text/html": [
              "<style>#sk-container-id-3 {color: black;background-color: white;}#sk-container-id-3 pre{padding: 0;}#sk-container-id-3 div.sk-toggleable {background-color: white;}#sk-container-id-3 label.sk-toggleable__label {cursor: pointer;display: block;width: 100%;margin-bottom: 0;padding: 0.3em;box-sizing: border-box;text-align: center;}#sk-container-id-3 label.sk-toggleable__label-arrow:before {content: \"▸\";float: left;margin-right: 0.25em;color: #696969;}#sk-container-id-3 label.sk-toggleable__label-arrow:hover:before {color: black;}#sk-container-id-3 div.sk-estimator:hover label.sk-toggleable__label-arrow:before {color: black;}#sk-container-id-3 div.sk-toggleable__content {max-height: 0;max-width: 0;overflow: hidden;text-align: left;background-color: #f0f8ff;}#sk-container-id-3 div.sk-toggleable__content pre {margin: 0.2em;color: black;border-radius: 0.25em;background-color: #f0f8ff;}#sk-container-id-3 input.sk-toggleable__control:checked~div.sk-toggleable__content {max-height: 200px;max-width: 100%;overflow: auto;}#sk-container-id-3 input.sk-toggleable__control:checked~label.sk-toggleable__label-arrow:before {content: \"▾\";}#sk-container-id-3 div.sk-estimator input.sk-toggleable__control:checked~label.sk-toggleable__label {background-color: #d4ebff;}#sk-container-id-3 div.sk-label input.sk-toggleable__control:checked~label.sk-toggleable__label {background-color: #d4ebff;}#sk-container-id-3 input.sk-hidden--visually {border: 0;clip: rect(1px 1px 1px 1px);clip: rect(1px, 1px, 1px, 1px);height: 1px;margin: -1px;overflow: hidden;padding: 0;position: absolute;width: 1px;}#sk-container-id-3 div.sk-estimator {font-family: monospace;background-color: #f0f8ff;border: 1px dotted black;border-radius: 0.25em;box-sizing: border-box;margin-bottom: 0.5em;}#sk-container-id-3 div.sk-estimator:hover {background-color: #d4ebff;}#sk-container-id-3 div.sk-parallel-item::after {content: \"\";width: 100%;border-bottom: 1px solid gray;flex-grow: 1;}#sk-container-id-3 div.sk-label:hover label.sk-toggleable__label {background-color: #d4ebff;}#sk-container-id-3 div.sk-serial::before {content: \"\";position: absolute;border-left: 1px solid gray;box-sizing: border-box;top: 0;bottom: 0;left: 50%;z-index: 0;}#sk-container-id-3 div.sk-serial {display: flex;flex-direction: column;align-items: center;background-color: white;padding-right: 0.2em;padding-left: 0.2em;position: relative;}#sk-container-id-3 div.sk-item {position: relative;z-index: 1;}#sk-container-id-3 div.sk-parallel {display: flex;align-items: stretch;justify-content: center;background-color: white;position: relative;}#sk-container-id-3 div.sk-item::before, #sk-container-id-3 div.sk-parallel-item::before {content: \"\";position: absolute;border-left: 1px solid gray;box-sizing: border-box;top: 0;bottom: 0;left: 50%;z-index: -1;}#sk-container-id-3 div.sk-parallel-item {display: flex;flex-direction: column;z-index: 1;position: relative;background-color: white;}#sk-container-id-3 div.sk-parallel-item:first-child::after {align-self: flex-end;width: 50%;}#sk-container-id-3 div.sk-parallel-item:last-child::after {align-self: flex-start;width: 50%;}#sk-container-id-3 div.sk-parallel-item:only-child::after {width: 0;}#sk-container-id-3 div.sk-dashed-wrapped {border: 1px dashed gray;margin: 0 0.4em 0.5em 0.4em;box-sizing: border-box;padding-bottom: 0.4em;background-color: white;}#sk-container-id-3 div.sk-label label {font-family: monospace;font-weight: bold;display: inline-block;line-height: 1.2em;}#sk-container-id-3 div.sk-label-container {text-align: center;}#sk-container-id-3 div.sk-container {/* jupyter's `normalize.less` sets `[hidden] { display: none; }` but bootstrap.min.css set `[hidden] { display: none !important; }` so we also need the `!important` here to be able to override the default hidden behavior on the sphinx rendered scikit-learn.org. See: https://github.com/scikit-learn/scikit-learn/issues/21755 */display: inline-block !important;position: relative;}#sk-container-id-3 div.sk-text-repr-fallback {display: none;}</style><div id=\"sk-container-id-3\" class=\"sk-top-container\"><div class=\"sk-text-repr-fallback\"><pre>LGBMClassifier(num_iterations=500)</pre><b>In a Jupyter environment, please rerun this cell to show the HTML representation or trust the notebook. <br />On GitHub, the HTML representation is unable to render, please try loading this page with nbviewer.org.</b></div><div class=\"sk-container\" hidden><div class=\"sk-item\"><div class=\"sk-estimator sk-toggleable\"><input class=\"sk-toggleable__control sk-hidden--visually\" id=\"sk-estimator-id-3\" type=\"checkbox\" checked><label for=\"sk-estimator-id-3\" class=\"sk-toggleable__label sk-toggleable__label-arrow\">LGBMClassifier</label><div class=\"sk-toggleable__content\"><pre>LGBMClassifier(num_iterations=500)</pre></div></div></div></div></div>"
            ],
            "text/plain": [
              "LGBMClassifier(num_iterations=500)"
            ]
          },
          "execution_count": 49,
          "metadata": {},
          "output_type": "execute_result"
        }
      ],
      "source": [
        "model = LGBMClassifier(boosting_type='gbdt', num_iterations=500)\n",
        "model.fit(x_train, y_train)"
      ]
    },
    {
      "cell_type": "code",
      "execution_count": 51,
      "metadata": {
        "colab": {
          "base_uri": "https://localhost:8080/"
        },
        "id": "ddn7FuuCZHqr",
        "outputId": "e6d5735b-9abf-4e99-e83d-b04b7e63ac44"
      },
      "outputs": [
        {
          "data": {
            "text/plain": [
              "array([60, 69, 62, 63])"
            ]
          },
          "execution_count": 51,
          "metadata": {},
          "output_type": "execute_result"
        }
      ],
      "source": [
        "# x_train.disrict.unique() # meaning?"
      ]
    },
    {
      "cell_type": "markdown",
      "metadata": {
        "id": "CKsrOiePadZ7"
      },
      "source": [
        "## Make Predictions on test set"
      ]
    },
    {
      "cell_type": "code",
      "execution_count": 52,
      "metadata": {
        "colab": {
          "base_uri": "https://localhost:8080/"
        },
        "id": "nBww16tEajXs",
        "outputId": "a963cd4a-4aaf-4d1b-8524-0d7e67be1c48"
      },
      "outputs": [
        {
          "data": {
            "text/plain": [
              "Index(['disrict', 'client_catg', 'region', '1transactions_count',\n",
              "       'consommation_level_1_mean', 'consommation_level_2_mean',\n",
              "       'consommation_level_3_mean', 'consommation_level_4_mean'],\n",
              "      dtype='object')"
            ]
          },
          "execution_count": 52,
          "metadata": {},
          "output_type": "execute_result"
        }
      ],
      "source": [
        "test.columns"
      ]
    },
    {
      "cell_type": "code",
      "execution_count": null,
      "metadata": {
        "colab": {
          "base_uri": "https://localhost:8080/",
          "height": 206
        },
        "id": "SGIjyZfmaf7C",
        "outputId": "b4bdd7a5-a496-405c-9651-ba482afd1046"
      },
      "outputs": [
        {
          "data": {
            "text/plain": [
              "target    1.0\n",
              "dtype: float64"
            ]
          },
          "execution_count": 55,
          "metadata": {},
          "output_type": "execute_result"
        }
      ],
      "source": [
        "preds = model.predict(test)\n",
        "preds = pd.DataFrame(preds, columns=['target'])\n",
        "# preds.max()"
      ]
    },
    {
      "cell_type": "code",
      "execution_count": 56,
      "metadata": {
        "colab": {
          "base_uri": "https://localhost:8080/",
          "height": 206
        },
        "id": "mX3rv6dwaw3-",
        "outputId": "6db1fc21-c545-4b99-a6f1-9357b2ef405d"
      },
      "outputs": [
        {
          "data": {
            "application/vnd.microsoft.datawrangler.viewer.v0+json": {
              "columns": [
                {
                  "name": "index",
                  "rawType": "int64",
                  "type": "integer"
                },
                {
                  "name": "client_id",
                  "rawType": "object",
                  "type": "string"
                },
                {
                  "name": "target",
                  "rawType": "float64",
                  "type": "float"
                }
              ],
              "conversionMethod": "pd.DataFrame",
              "ref": "3f074f80-1de2-4725-90c8-0c533b2aa138",
              "rows": [
                [
                  "0",
                  "test_Client_0",
                  "0.0"
                ],
                [
                  "1",
                  "test_Client_1",
                  "0.0"
                ],
                [
                  "2",
                  "test_Client_10",
                  "0.0"
                ],
                [
                  "3",
                  "test_Client_100",
                  "0.0"
                ],
                [
                  "4",
                  "test_Client_1000",
                  "0.0"
                ]
              ],
              "shape": {
                "columns": 2,
                "rows": 5
              }
            },
            "text/html": [
              "<div>\n",
              "<style scoped>\n",
              "    .dataframe tbody tr th:only-of-type {\n",
              "        vertical-align: middle;\n",
              "    }\n",
              "\n",
              "    .dataframe tbody tr th {\n",
              "        vertical-align: top;\n",
              "    }\n",
              "\n",
              "    .dataframe thead th {\n",
              "        text-align: right;\n",
              "    }\n",
              "</style>\n",
              "<table border=\"1\" class=\"dataframe\">\n",
              "  <thead>\n",
              "    <tr style=\"text-align: right;\">\n",
              "      <th></th>\n",
              "      <th>client_id</th>\n",
              "      <th>target</th>\n",
              "    </tr>\n",
              "  </thead>\n",
              "  <tbody>\n",
              "    <tr>\n",
              "      <th>0</th>\n",
              "      <td>test_Client_0</td>\n",
              "      <td>0.0</td>\n",
              "    </tr>\n",
              "    <tr>\n",
              "      <th>1</th>\n",
              "      <td>test_Client_1</td>\n",
              "      <td>0.0</td>\n",
              "    </tr>\n",
              "    <tr>\n",
              "      <th>2</th>\n",
              "      <td>test_Client_10</td>\n",
              "      <td>0.0</td>\n",
              "    </tr>\n",
              "    <tr>\n",
              "      <th>3</th>\n",
              "      <td>test_Client_100</td>\n",
              "      <td>0.0</td>\n",
              "    </tr>\n",
              "    <tr>\n",
              "      <th>4</th>\n",
              "      <td>test_Client_1000</td>\n",
              "      <td>0.0</td>\n",
              "    </tr>\n",
              "  </tbody>\n",
              "</table>\n",
              "</div>"
            ],
            "text/plain": [
              "          client_id  target\n",
              "0     test_Client_0     0.0\n",
              "1     test_Client_1     0.0\n",
              "2    test_Client_10     0.0\n",
              "3   test_Client_100     0.0\n",
              "4  test_Client_1000     0.0"
            ]
          },
          "execution_count": 56,
          "metadata": {},
          "output_type": "execute_result"
        }
      ],
      "source": [
        "submission = pd.DataFrame(\n",
        "    {\n",
        "        'client_id': sub_client_id,\n",
        "        'target': preds['target']\n",
        "    }\n",
        ")\n",
        "\n",
        "submission.head()"
      ]
    },
    {
      "cell_type": "code",
      "execution_count": null,
      "metadata": {
        "id": "O7_ANcWUboUB"
      },
      "outputs": [],
      "source": [
        "submission.to_csv(f'{OUTPUT_DIR}/submission.csv', index=False)"
      ]
    },
    {
      "cell_type": "markdown",
      "metadata": {
        "id": "Msm0u0WXdQ2l"
      },
      "source": [
        "## Tips \n",
        "- Thorough EDA and incorporating domain knowledge\n",
        "- Re-grouping categorical features\n",
        "- More feature engineering(try utilizing some date-time features)\n",
        "- Target balancing - oversampling, undersampling, SMOTE, scale_pos_weight\n",
        "- Model ensembling\n",
        "- Train-test split or cross-validation\n"
      ]
    },
    {
      "cell_type": "markdown",
      "metadata": {
        "id": "fgvYxyLXeEuU"
      },
      "source": [
        "# ******************* GOOD LUCK!!! ***************************"
      ]
    }
  ],
  "metadata": {
    "colab": {
      "provenance": []
    },
    "kernelspec": {
      "display_name": ".venv",
      "language": "python",
      "name": "python3"
    },
    "language_info": {
      "codemirror_mode": {
        "name": "ipython",
        "version": 3
      },
      "file_extension": ".py",
      "mimetype": "text/x-python",
      "name": "python",
      "nbconvert_exporter": "python",
      "pygments_lexer": "ipython3",
      "version": "3.11.3"
    }
  },
  "nbformat": 4,
  "nbformat_minor": 0
}
